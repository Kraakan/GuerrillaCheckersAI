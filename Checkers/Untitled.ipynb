{
 "cells": [
  {
   "cell_type": "code",
   "execution_count": 12,
   "id": "c26c5c1c",
   "metadata": {},
   "outputs": [],
   "source": [
    "import numpy as np\n",
    "\n",
    "#starting_board = []"
   ]
  },
  {
   "cell_type": "markdown",
   "id": "d3a50a37",
   "metadata": {},
   "source": [
    "Första approach: två 8x8 plan på varandra\n",
    " + Läsbar, men\n",
    "     - Man måste ändå hålla reda på att ena planet är förskjutet eftersom det representerar kryssen mellan rutorna\n",
    "     - Detta plan har också en onödig rad och kolumn\n",
    " - Väldigt o-optimerad"
   ]
  },
  {
   "cell_type": "code",
   "execution_count": 13,
   "id": "6882ca9c",
   "metadata": {},
   "outputs": [
    {
     "name": "stdout",
     "output_type": "stream",
     "text": [
      "[[[0. 0. 0. 0. 0. 0. 0. 0.]\n",
      "  [0. 0. 0. 0. 0. 0. 0. 0.]\n",
      "  [0. 0. 0. 0. 0. 0. 0. 0.]\n",
      "  [0. 0. 0. 0. 0. 0. 0. 0.]\n",
      "  [0. 0. 0. 0. 0. 0. 0. 0.]\n",
      "  [0. 0. 0. 0. 0. 0. 0. 0.]\n",
      "  [0. 0. 0. 0. 0. 0. 0. 0.]\n",
      "  [0. 0. 0. 0. 0. 0. 0. 0.]]\n",
      "\n",
      " [[0. 0. 0. 0. 0. 0. 0. 0.]\n",
      "  [0. 0. 0. 0. 0. 0. 0. 0.]\n",
      "  [0. 0. 0. 0. 0. 0. 0. 0.]\n",
      "  [0. 0. 0. 0. 0. 0. 0. 0.]\n",
      "  [0. 0. 0. 0. 0. 0. 0. 0.]\n",
      "  [0. 0. 0. 0. 0. 0. 0. 0.]\n",
      "  [0. 0. 0. 0. 0. 0. 0. 0.]\n",
      "  [0. 0. 0. 0. 0. 0. 0. 0.]]]\n"
     ]
    }
   ],
   "source": [
    "test = np.zeros((2,8,8))\n",
    "print(test)"
   ]
  },
  {
   "cell_type": "code",
   "execution_count": 14,
   "id": "e863c589",
   "metadata": {},
   "outputs": [
    {
     "data": {
      "text/plain": [
       "array([[0., 0., 0., 0., 0., 0., 0., 0.],\n",
       "       [0., 0., 0., 0., 0., 0., 0., 0.],\n",
       "       [0., 0., 0., 0., 0., 0., 0., 0.],\n",
       "       [0., 0., 0., 0., 0., 0., 0., 0.],\n",
       "       [0., 0., 0., 0., 0., 0., 0., 0.],\n",
       "       [0., 0., 0., 0., 0., 0., 0., 0.],\n",
       "       [0., 0., 0., 0., 0., 0., 0., 0.],\n",
       "       [0., 0., 0., 0., 0., 0., 0., 0.]])"
      ]
     },
     "execution_count": 14,
     "metadata": {},
     "output_type": "execute_result"
    }
   ],
   "source": [
    "test[0]"
   ]
  },
  {
   "cell_type": "markdown",
   "id": "3b293ec0",
   "metadata": {},
   "source": [
    "För att komma fram till en mera optimal representation tror jag att jag först borde börja med att representare bägge \"sidor\" av planen skilt.\n",
    "\n",
    "Från checkers implementationen som jag har lånat vet jag redan att den planen kan komprimeras till 4x8 eftersom pjäserna endast rör sig diagonalt\n",
    "\n"
   ]
  },
  {
   "cell_type": "code",
   "execution_count": 15,
   "id": "5a22397d",
   "metadata": {},
   "outputs": [
    {
     "data": {
      "text/plain": [
       "array([[0., 0., 0., 0., 0., 0., 0.],\n",
       "       [0., 0., 0., 0., 0., 0., 0.],\n",
       "       [0., 0., 0., 0., 0., 0., 0.],\n",
       "       [0., 0., 0., 0., 0., 0., 0.],\n",
       "       [0., 0., 0., 0., 0., 0., 0.],\n",
       "       [0., 0., 0., 0., 0., 0., 0.],\n",
       "       [0., 0., 0., 0., 0., 0., 0.]])"
      ]
     },
     "execution_count": 15,
     "metadata": {},
     "output_type": "execute_result"
    }
   ],
   "source": [
    "np.zeros((7,7))"
   ]
  },
  {
   "cell_type": "code",
   "execution_count": 16,
   "id": "fa438bb7",
   "metadata": {},
   "outputs": [],
   "source": [
    "# Lånat från checkers:\n",
    "def expand(board):\n",
    "\tb = np.zeros((8, 8), dtype='b')\n",
    "\tfor i in range(0, 8):\n",
    "\t\tif (i%2 == 0):\n",
    "\t\t\tb[i] = np.array([0, board[i*4], 0, board[i*4 + 1], 0, board[i*4 + 2], 0, board[i*4 + 3]])\n",
    "\t\telse:\n",
    "\t\t\tb[i] = np.array([board[i*4], 0, board[i*4 + 1], 0, board[i*4 + 2], 0, board[i*4 + 3], 0])\n",
    "\treturn b\n",
    "\n",
    "def compress(board):\n",
    "\tb = np.zeros((1,32), dtype='b')\n",
    "\tfor i in range(0, 8):\n",
    "\t\tif (i%2 == 0):\n",
    "\t\t\tb[0, i*4 : i*4+4] = np.array([board[i, 1], board[i, 3], board[i, 5], board[i, 7]])\n",
    "\t\telse:\n",
    "\t\t\tb[0, i*4 : i*4+4] = np.array([board[i, 0], board[i, 2], board[i, 4], board[i, 6]])\n",
    "\treturn b"
   ]
  },
  {
   "cell_type": "code",
   "execution_count": 17,
   "id": "c1b5da27",
   "metadata": {},
   "outputs": [],
   "source": [
    "import numpy as np\n",
    "b = np.zeros((1, 8), dtype='b')\n",
    "b[0,0] = 4"
   ]
  },
  {
   "cell_type": "code",
   "execution_count": 18,
   "id": "b4c9026c",
   "metadata": {},
   "outputs": [
    {
     "data": {
      "text/plain": [
       "4"
      ]
     },
     "execution_count": 18,
     "metadata": {},
     "output_type": "execute_result"
    }
   ],
   "source": [
    "b[0,0]"
   ]
  },
  {
   "cell_type": "code",
   "execution_count": 19,
   "id": "10c19ef7",
   "metadata": {},
   "outputs": [],
   "source": [
    "manual_diagonals = [[4,5],[5,6],[6,7],[7],[0,8],[0,1,8,9],[1,2,9,10],[2,3,10,11],[12,13,4,5],[13,14,5,6]]"
   ]
  },
  {
   "cell_type": "code",
   "execution_count": 20,
   "id": "7d0e90be",
   "metadata": {},
   "outputs": [],
   "source": [
    "def diagonal_steps(position):\n",
    "    steps = []\n",
    "    # Beacuse the checker board is compressed, diagonals work differently on add and even rows\n",
    "    if (position // 4) % 2 == 0:\n",
    "        if not ((position + 5) % 8 == 0):\n",
    "            steps.append(position - 5)\n",
    "            steps.append(position + 5)\n",
    "        steps.append(position - 4)\n",
    "        steps.append(position + 4)\n",
    "    else:\n",
    "        if not ((position + 4) % 8 == 0):\n",
    "            steps.append(position - 5)\n",
    "            steps.append(position + 3)\n",
    "        steps.append(position - 4)\n",
    "        steps.append(position + 4)\n",
    "    i = 0\n",
    "    while i < len(steps):\n",
    "        if steps[i] < 0 or steps[i] > 31:\n",
    "            steps.pop(i)\n",
    "        else: i = i + 1\n",
    "    return steps    "
   ]
  },
  {
   "cell_type": "code",
   "execution_count": 22,
   "id": "568ff411",
   "metadata": {},
   "outputs": [],
   "source": [
    "auto_steps = []\n",
    "for n in range(32):\n",
    "    auto_steps.append(diagonal_steps(n))"
   ]
  },
  {
   "cell_type": "code",
   "execution_count": 23,
   "id": "f0456fee",
   "metadata": {},
   "outputs": [
    {
     "data": {
      "text/plain": [
       "[[5, 4],\n",
       " [6, 5],\n",
       " [7, 6],\n",
       " [7],\n",
       " [0, 8],\n",
       " [0, 8, 1, 9],\n",
       " [1, 9, 2, 10],\n",
       " [2, 10, 3, 11],\n",
       " [3, 13, 4, 12],\n",
       " [4, 14, 5, 13],\n",
       " [5, 15, 6, 14],\n",
       " [7, 15],\n",
       " [8, 16],\n",
       " [8, 16, 9, 17],\n",
       " [9, 17, 10, 18],\n",
       " [10, 18, 11, 19],\n",
       " [11, 21, 12, 20],\n",
       " [12, 22, 13, 21],\n",
       " [13, 23, 14, 22],\n",
       " [15, 23],\n",
       " [16, 24],\n",
       " [16, 24, 17, 25],\n",
       " [17, 25, 18, 26],\n",
       " [18, 26, 19, 27],\n",
       " [19, 29, 20, 28],\n",
       " [20, 30, 21, 29],\n",
       " [21, 31, 22, 30],\n",
       " [23, 31],\n",
       " [24],\n",
       " [24, 25],\n",
       " [25, 26],\n",
       " [26, 27]]"
      ]
     },
     "execution_count": 23,
     "metadata": {},
     "output_type": "execute_result"
    }
   ],
   "source": [
    "auto_steps"
   ]
  },
  {
   "cell_type": "code",
   "execution_count": 24,
   "id": "77a00559",
   "metadata": {},
   "outputs": [
    {
     "data": {
      "text/plain": [
       "[24]"
      ]
     },
     "execution_count": 24,
     "metadata": {},
     "output_type": "execute_result"
    }
   ],
   "source": [
    "auto_steps[28]"
   ]
  },
  {
   "cell_type": "code",
   "execution_count": 25,
   "id": "ae52e820",
   "metadata": {},
   "outputs": [],
   "source": [
    "manual_neighbors = [[1,7],[0,2,8]]"
   ]
  },
  {
   "cell_type": "code",
   "execution_count": 32,
   "id": "ebabca9e",
   "metadata": {},
   "outputs": [],
   "source": [
    "def neighbors(point, offset):\n",
    "    # offset is added to neigbors because the go board will be appended to the checkers board\n",
    "    neighbors = []\n",
    "    if not (point % 7 == 0):\n",
    "        neighbors.append(point - 1 + offset)\n",
    "    if not ((point + 1) % 7 == 0):\n",
    "        neighbors.append(point + 1 + offset)\n",
    "    neighbors.append(point - 7 + offset)\n",
    "    neighbors.append(point + 7 + offset)\n",
    "    i = 0\n",
    "    while i < len(neighbors):\n",
    "        if neighbors[i] - offset < 0 or neighbors[i] - offset > 48:\n",
    "            neighbors.pop(i)\n",
    "        else: i = i + 1\n",
    "    return neighbors   \n",
    "    "
   ]
  },
  {
   "cell_type": "code",
   "execution_count": 35,
   "id": "f81b4951",
   "metadata": {},
   "outputs": [],
   "source": [
    "auto_neighbors = []\n",
    "for n in range(49):\n",
    "    auto_neighbors.append(neighbors(n, 32))"
   ]
  },
  {
   "cell_type": "code",
   "execution_count": 36,
   "id": "f0169db2",
   "metadata": {},
   "outputs": [
    {
     "data": {
      "text/plain": [
       "[[33, 39],\n",
       " [32, 34, 40],\n",
       " [33, 35, 41],\n",
       " [34, 36, 42],\n",
       " [35, 37, 43],\n",
       " [36, 38, 44],\n",
       " [37, 45],\n",
       " [40, 32, 46],\n",
       " [39, 41, 33, 47],\n",
       " [40, 42, 34, 48],\n",
       " [41, 43, 35, 49],\n",
       " [42, 44, 36, 50],\n",
       " [43, 45, 37, 51],\n",
       " [44, 38, 52],\n",
       " [47, 39, 53],\n",
       " [46, 48, 40, 54],\n",
       " [47, 49, 41, 55],\n",
       " [48, 50, 42, 56],\n",
       " [49, 51, 43, 57],\n",
       " [50, 52, 44, 58],\n",
       " [51, 45, 59],\n",
       " [54, 46, 60],\n",
       " [53, 55, 47, 61],\n",
       " [54, 56, 48, 62],\n",
       " [55, 57, 49, 63],\n",
       " [56, 58, 50, 64],\n",
       " [57, 59, 51, 65],\n",
       " [58, 52, 66],\n",
       " [61, 53, 67],\n",
       " [60, 62, 54, 68],\n",
       " [61, 63, 55, 69],\n",
       " [62, 64, 56, 70],\n",
       " [63, 65, 57, 71],\n",
       " [64, 66, 58, 72],\n",
       " [65, 59, 73],\n",
       " [68, 60, 74],\n",
       " [67, 69, 61, 75],\n",
       " [68, 70, 62, 76],\n",
       " [69, 71, 63, 77],\n",
       " [70, 72, 64, 78],\n",
       " [71, 73, 65, 79],\n",
       " [72, 66, 80],\n",
       " [75, 67],\n",
       " [74, 76, 68],\n",
       " [75, 77, 69],\n",
       " [76, 78, 70],\n",
       " [77, 79, 71],\n",
       " [78, 80, 72],\n",
       " [79, 73]]"
      ]
     },
     "execution_count": 36,
     "metadata": {},
     "output_type": "execute_result"
    }
   ],
   "source": [
    "auto_neighbors"
   ]
  },
  {
   "cell_type": "code",
   "execution_count": null,
   "id": "0d41220e",
   "metadata": {},
   "outputs": [],
   "source": []
  }
 ],
 "metadata": {
  "kernelspec": {
   "display_name": "Python 3 (ipykernel)",
   "language": "python",
   "name": "python3"
  },
  "language_info": {
   "codemirror_mode": {
    "name": "ipython",
    "version": 3
   },
   "file_extension": ".py",
   "mimetype": "text/x-python",
   "name": "python",
   "nbconvert_exporter": "python",
   "pygments_lexer": "ipython3",
   "version": "3.10.6"
  }
 },
 "nbformat": 4,
 "nbformat_minor": 5
}
