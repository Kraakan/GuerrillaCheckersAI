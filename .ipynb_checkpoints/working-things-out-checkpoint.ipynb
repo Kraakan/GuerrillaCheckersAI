{
 "cells": [
  {
   "cell_type": "code",
   "execution_count": 1,
   "id": "c26c5c1c",
   "metadata": {},
   "outputs": [],
   "source": [
    "import numpy as np\n",
    "\n",
    "#starting_board = []"
   ]
  },
  {
   "cell_type": "markdown",
   "id": "d3a50a37",
   "metadata": {},
   "source": [
    "Första approach: två 8x8 plan på varandra\n",
    " + Läsbar, men\n",
    "     - Man måste ändå hålla reda på att ena planet är förskjutet eftersom det representerar kryssen mellan rutorna\n",
    "     - Detta plan har också en onödig rad och kolumn\n",
    " - Väldigt o-optimerad"
   ]
  },
  {
   "cell_type": "code",
   "execution_count": 2,
   "id": "6882ca9c",
   "metadata": {},
   "outputs": [
    {
     "name": "stdout",
     "output_type": "stream",
     "text": [
      "[[[0. 0. 0. 0. 0. 0. 0. 0.]\n",
      "  [0. 0. 0. 0. 0. 0. 0. 0.]\n",
      "  [0. 0. 0. 0. 0. 0. 0. 0.]\n",
      "  [0. 0. 0. 0. 0. 0. 0. 0.]\n",
      "  [0. 0. 0. 0. 0. 0. 0. 0.]\n",
      "  [0. 0. 0. 0. 0. 0. 0. 0.]\n",
      "  [0. 0. 0. 0. 0. 0. 0. 0.]\n",
      "  [0. 0. 0. 0. 0. 0. 0. 0.]]\n",
      "\n",
      " [[0. 0. 0. 0. 0. 0. 0. 0.]\n",
      "  [0. 0. 0. 0. 0. 0. 0. 0.]\n",
      "  [0. 0. 0. 0. 0. 0. 0. 0.]\n",
      "  [0. 0. 0. 0. 0. 0. 0. 0.]\n",
      "  [0. 0. 0. 0. 0. 0. 0. 0.]\n",
      "  [0. 0. 0. 0. 0. 0. 0. 0.]\n",
      "  [0. 0. 0. 0. 0. 0. 0. 0.]\n",
      "  [0. 0. 0. 0. 0. 0. 0. 0.]]]\n"
     ]
    }
   ],
   "source": [
    "test = np.zeros((2,8,8))\n",
    "print(test)"
   ]
  },
  {
   "cell_type": "code",
   "execution_count": 3,
   "id": "e863c589",
   "metadata": {},
   "outputs": [
    {
     "data": {
      "text/plain": [
       "array([[0., 0., 0., 0., 0., 0., 0., 0.],\n",
       "       [0., 0., 0., 0., 0., 0., 0., 0.],\n",
       "       [0., 0., 0., 0., 0., 0., 0., 0.],\n",
       "       [0., 0., 0., 0., 0., 0., 0., 0.],\n",
       "       [0., 0., 0., 0., 0., 0., 0., 0.],\n",
       "       [0., 0., 0., 0., 0., 0., 0., 0.],\n",
       "       [0., 0., 0., 0., 0., 0., 0., 0.],\n",
       "       [0., 0., 0., 0., 0., 0., 0., 0.]])"
      ]
     },
     "execution_count": 3,
     "metadata": {},
     "output_type": "execute_result"
    }
   ],
   "source": [
    "test[0]"
   ]
  },
  {
   "cell_type": "markdown",
   "id": "3b293ec0",
   "metadata": {},
   "source": [
    "För att komma fram till en mera optimal representation tror jag att jag först borde börja med att representare bägge \"sidor\" av planen skilt.\n",
    "\n",
    "Från checkers implementationen som jag har lånat vet jag redan att den planen kan komprimeras till 4x8 eftersom pjäserna endast rör sig diagonalt\n",
    "\n"
   ]
  },
  {
   "cell_type": "code",
   "execution_count": 4,
   "id": "5a22397d",
   "metadata": {},
   "outputs": [
    {
     "data": {
      "text/plain": [
       "array([[0., 0., 0., 0., 0., 0., 0.],\n",
       "       [0., 0., 0., 0., 0., 0., 0.],\n",
       "       [0., 0., 0., 0., 0., 0., 0.],\n",
       "       [0., 0., 0., 0., 0., 0., 0.],\n",
       "       [0., 0., 0., 0., 0., 0., 0.],\n",
       "       [0., 0., 0., 0., 0., 0., 0.],\n",
       "       [0., 0., 0., 0., 0., 0., 0.]])"
      ]
     },
     "execution_count": 4,
     "metadata": {},
     "output_type": "execute_result"
    }
   ],
   "source": [
    "np.zeros((7,7))"
   ]
  },
  {
   "cell_type": "code",
   "execution_count": 5,
   "id": "fa438bb7",
   "metadata": {},
   "outputs": [],
   "source": [
    "# Lånat från checkers:\n",
    "def expand(board):\n",
    "\tb = np.zeros((8, 8), dtype='b')\n",
    "\tfor i in range(0, 8):\n",
    "\t\tif (i%2 == 0):\n",
    "\t\t\tb[i] = np.array([0, board[i*4], 0, board[i*4 + 1], 0, board[i*4 + 2], 0, board[i*4 + 3]])\n",
    "\t\telse:\n",
    "\t\t\tb[i] = np.array([board[i*4], 0, board[i*4 + 1], 0, board[i*4 + 2], 0, board[i*4 + 3], 0])\n",
    "\treturn b\n",
    "\n",
    "def compress(board):\n",
    "\tb = np.zeros((1,32), dtype='b')\n",
    "\tfor i in range(0, 8):\n",
    "\t\tif (i%2 == 0):\n",
    "\t\t\tb[0, i*4 : i*4+4] = np.array([board[i, 1], board[i, 3], board[i, 5], board[i, 7]])\n",
    "\t\telse:\n",
    "\t\t\tb[0, i*4 : i*4+4] = np.array([board[i, 0], board[i, 2], board[i, 4], board[i, 6]])\n",
    "\treturn b"
   ]
  },
  {
   "cell_type": "code",
   "execution_count": 6,
   "id": "c1b5da27",
   "metadata": {},
   "outputs": [],
   "source": [
    "import numpy as np\n",
    "b = np.zeros((1, 8), dtype='b')\n",
    "b[0,0] = 4"
   ]
  },
  {
   "cell_type": "code",
   "execution_count": 7,
   "id": "b4c9026c",
   "metadata": {},
   "outputs": [
    {
     "data": {
      "text/plain": [
       "4"
      ]
     },
     "execution_count": 7,
     "metadata": {},
     "output_type": "execute_result"
    }
   ],
   "source": [
    "b[0,0]"
   ]
  },
  {
   "cell_type": "markdown",
   "id": "cc520e61",
   "metadata": {},
   "source": [
    "## Kod för COIN spelarens tillåtna drag\n",
    "Först vill jag ha en metod för att räkna ut vilka platser som blir diagonala \"grannar\" på det komprimerade brädet. Jag tror att den bästa approachen kommer att vara att köra denna metod en gång och spara resultatet i en list."
   ]
  },
  {
   "cell_type": "code",
   "execution_count": 8,
   "id": "10c19ef7",
   "metadata": {},
   "outputs": [],
   "source": [
    "manual_diagonals = [[4,5],[5,6],[6,7],[7],[0,8],[0,1,8,9],[1,2,9,10],[2,3,10,11],[12,13,4,5],[13,14,5,6]]"
   ]
  },
  {
   "cell_type": "code",
   "execution_count": 9,
   "id": "7d0e90be",
   "metadata": {},
   "outputs": [],
   "source": [
    "def diagonal_steps(position):\n",
    "    steps = []\n",
    "    # Beacuse the checker board is compressed, diagonals work differently on add and even rows\n",
    "    if (position // 4) % 2 == 0:\n",
    "        if not ((position + 5) % 8 == 0):\n",
    "            steps.append([position - 3])\n",
    "        steps.append([position - 4])\n",
    "        if not ((position + 5) % 8 == 0):\n",
    "            steps.append([position + 5])\n",
    "        steps.append([position + 4])\n",
    "    else:\n",
    "        if not ((position + 4) % 8 == 0):\n",
    "            steps.append([position - 5])\n",
    "        steps.append([position - 4])\n",
    "        if not ((position + 4) % 8 == 0):\n",
    "            steps.append([position + 3])\n",
    "        steps.append([position + 4])\n",
    "    i = 0\n",
    "    while i < len(steps):\n",
    "        if steps[i][0] < 0 or steps[i][0] > 31:\n",
    "            steps.pop(i)\n",
    "        else: i = i + 1\n",
    "    steps.sort()\n",
    "    return steps    "
   ]
  },
  {
   "cell_type": "code",
   "execution_count": 10,
   "id": "568ff411",
   "metadata": {},
   "outputs": [],
   "source": [
    "diagonals = []\n",
    "for n in range(32):\n",
    "    diagonals.append(diagonal_steps(n))"
   ]
  },
  {
   "cell_type": "code",
   "execution_count": 11,
   "id": "f0456fee",
   "metadata": {},
   "outputs": [
    {
     "data": {
      "text/plain": [
       "[[[4], [5]],\n",
       " [[5], [6]],\n",
       " [[6], [7]],\n",
       " [[7]],\n",
       " [[0], [8]],\n",
       " [[0], [1], [8], [9]],\n",
       " [[1], [2], [9], [10]],\n",
       " [[2], [3], [10], [11]],\n",
       " [[4], [5], [12], [13]],\n",
       " [[5], [6], [13], [14]],\n",
       " [[6], [7], [14], [15]],\n",
       " [[7], [15]],\n",
       " [[8], [16]],\n",
       " [[8], [9], [16], [17]],\n",
       " [[9], [10], [17], [18]],\n",
       " [[10], [11], [18], [19]],\n",
       " [[12], [13], [20], [21]],\n",
       " [[13], [14], [21], [22]],\n",
       " [[14], [15], [22], [23]],\n",
       " [[15], [23]],\n",
       " [[16], [24]],\n",
       " [[16], [17], [24], [25]],\n",
       " [[17], [18], [25], [26]],\n",
       " [[18], [19], [26], [27]],\n",
       " [[20], [21], [28], [29]],\n",
       " [[21], [22], [29], [30]],\n",
       " [[22], [23], [30], [31]],\n",
       " [[23], [31]],\n",
       " [[24]],\n",
       " [[24], [25]],\n",
       " [[25], [26]],\n",
       " [[26], [27]]]"
      ]
     },
     "execution_count": 11,
     "metadata": {},
     "output_type": "execute_result"
    }
   ],
   "source": [
    "diagonals"
   ]
  },
  {
   "cell_type": "code",
   "execution_count": 12,
   "id": "5ddca4fa",
   "metadata": {},
   "outputs": [],
   "source": [
    "# BAD CODE! TODO: IGNORE\n",
    "# Should be possible to find the right cross by index and move\n",
    "def old_list_diagonal_crosses(diagonals):\n",
    "    upwards = False\n",
    "    i = len(diagonals) + 1\n",
    "    while i < 49 + len(diagonals) + 1:\n",
    "        for position in diagonals:\n",
    "            for move in position:\n",
    "                move.append(i)\n",
    "                i = i + 1\n",
    "                if i % 7 == 0:\n",
    "                    upwards = not upwards\n",
    "                    if upwards: i = i - 7\n",
    "    return diagonals"
   ]
  },
  {
   "cell_type": "code",
   "execution_count": 13,
   "id": "a589f6fd",
   "metadata": {},
   "outputs": [],
   "source": [
    "def list_diagonal_crosses(diagonals):\n",
    "    i = 33\n",
    "    up = -1\n",
    "    down = 3\n",
    "    while i < 33 + 49:\n",
    "        # each cross is next to 4 squares, what does each of them do?\n",
    "        if i % 2 != 0:\n",
    "            # odd = even\n",
    "            # even crosses go up-right and down-left\n",
    "            up += 1\n",
    "            if (i-33) % 7 == 0:\n",
    "                down += 1\n",
    "        else:\n",
    "            # odd crosses go up-left and down-right\n",
    "            down +=1\n",
    "            if (i-33) % 7 == 0:\n",
    "                up += 1\n",
    "        for move in diagonals[up]:\n",
    "            if move[0] == down:\n",
    "                move.append(i)\n",
    "        for move in diagonals[down]:\n",
    "            if move[0] == up:\n",
    "                move.append(i)\n",
    "        i += 1"
   ]
  },
  {
   "cell_type": "code",
   "execution_count": 14,
   "id": "77a00559",
   "metadata": {},
   "outputs": [],
   "source": [
    "list_diagonal_crosses(diagonals)"
   ]
  },
  {
   "cell_type": "code",
   "execution_count": 15,
   "id": "6046a465",
   "metadata": {},
   "outputs": [
    {
     "data": {
      "text/plain": [
       "[[[4, 33], [5, 34]],\n",
       " [[5, 35], [6, 36]],\n",
       " [[6, 37], [7, 38]],\n",
       " [[7, 39]],\n",
       " [[0, 33], [8, 40]],\n",
       " [[0, 34], [1, 35], [8, 41], [9, 42]],\n",
       " [[1, 36], [2, 37], [9, 43], [10, 44]],\n",
       " [[2, 38], [3, 39], [10, 45], [11, 46]],\n",
       " [[4, 40], [5, 41], [12, 47], [13, 48]],\n",
       " [[5, 42], [6, 43], [13, 49], [14, 50]],\n",
       " [[6, 44], [7, 45], [14, 51], [15, 52]],\n",
       " [[7, 46], [15, 53]],\n",
       " [[8, 47], [16, 54]],\n",
       " [[8, 48], [9, 49], [16, 55], [17, 56]],\n",
       " [[9, 50], [10, 51], [17, 57], [18, 58]],\n",
       " [[10, 52], [11, 53], [18, 59], [19, 60]],\n",
       " [[12, 54], [13, 55], [20, 61], [21, 62]],\n",
       " [[13, 56], [14, 57], [21, 63], [22, 64]],\n",
       " [[14, 58], [15, 59], [22, 65], [23, 66]],\n",
       " [[15, 60], [23, 67]],\n",
       " [[16, 61], [24, 68]],\n",
       " [[16, 62], [17, 63], [24, 69], [25, 70]],\n",
       " [[17, 64], [18, 65], [25, 71], [26, 72]],\n",
       " [[18, 66], [19, 67], [26, 73], [27, 74]],\n",
       " [[20, 68], [21, 69], [28, 75], [29, 76]],\n",
       " [[21, 70], [22, 71], [29, 77], [30, 78]],\n",
       " [[22, 72], [23, 73], [30, 79], [31, 80]],\n",
       " [[23, 74], [31, 81]],\n",
       " [[24, 75]],\n",
       " [[24, 76], [25, 77]],\n",
       " [[25, 78], [26, 79]],\n",
       " [[26, 80], [27, 81]]]"
      ]
     },
     "execution_count": 15,
     "metadata": {},
     "output_type": "execute_result"
    }
   ],
   "source": [
    "diagonals"
   ]
  },
  {
   "cell_type": "code",
   "execution_count": 16,
   "id": "ae52e820",
   "metadata": {},
   "outputs": [],
   "source": [
    "manual_neighbors = [[1,7],[0,2,8]]"
   ]
  },
  {
   "cell_type": "code",
   "execution_count": 17,
   "id": "ebabca9e",
   "metadata": {},
   "outputs": [],
   "source": [
    "def get_neighbors(point, offset = 0):\n",
    "    # offset is added to neigbors because the go board will be appended to the checkers board\n",
    "    neighbors = []\n",
    "    if not (point % 7 == 0):\n",
    "        neighbors.append(point - 1 + offset)\n",
    "    if not ((point + 1) % 7 == 0):\n",
    "        neighbors.append(point + 1 + offset)\n",
    "    neighbors.append(point - 7 + offset)\n",
    "    neighbors.append(point + 7 + offset)\n",
    "    i = 0\n",
    "    while i < len(neighbors):\n",
    "        if neighbors[i] - offset < 0 or neighbors[i] - offset > 48:\n",
    "            neighbors.pop(i)\n",
    "        else: i = i + 1\n",
    "    return neighbors   \n",
    "    "
   ]
  },
  {
   "cell_type": "code",
   "execution_count": 18,
   "id": "f81b4951",
   "metadata": {},
   "outputs": [],
   "source": [
    "neighbors = []\n",
    "for n in range(49):\n",
    "    neighbors.append(get_neighbors(n, 0))"
   ]
  },
  {
   "cell_type": "code",
   "execution_count": 19,
   "id": "f0169db2",
   "metadata": {},
   "outputs": [
    {
     "data": {
      "text/plain": [
       "[[1, 7],\n",
       " [0, 2, 8],\n",
       " [1, 3, 9],\n",
       " [2, 4, 10],\n",
       " [3, 5, 11],\n",
       " [4, 6, 12],\n",
       " [5, 13],\n",
       " [8, 0, 14],\n",
       " [7, 9, 1, 15],\n",
       " [8, 10, 2, 16],\n",
       " [9, 11, 3, 17],\n",
       " [10, 12, 4, 18],\n",
       " [11, 13, 5, 19],\n",
       " [12, 6, 20],\n",
       " [15, 7, 21],\n",
       " [14, 16, 8, 22],\n",
       " [15, 17, 9, 23],\n",
       " [16, 18, 10, 24],\n",
       " [17, 19, 11, 25],\n",
       " [18, 20, 12, 26],\n",
       " [19, 13, 27],\n",
       " [22, 14, 28],\n",
       " [21, 23, 15, 29],\n",
       " [22, 24, 16, 30],\n",
       " [23, 25, 17, 31],\n",
       " [24, 26, 18, 32],\n",
       " [25, 27, 19, 33],\n",
       " [26, 20, 34],\n",
       " [29, 21, 35],\n",
       " [28, 30, 22, 36],\n",
       " [29, 31, 23, 37],\n",
       " [30, 32, 24, 38],\n",
       " [31, 33, 25, 39],\n",
       " [32, 34, 26, 40],\n",
       " [33, 27, 41],\n",
       " [36, 28, 42],\n",
       " [35, 37, 29, 43],\n",
       " [36, 38, 30, 44],\n",
       " [37, 39, 31, 45],\n",
       " [38, 40, 32, 46],\n",
       " [39, 41, 33, 47],\n",
       " [40, 34, 48],\n",
       " [43, 35],\n",
       " [42, 44, 36],\n",
       " [43, 45, 37],\n",
       " [44, 46, 38],\n",
       " [45, 47, 39],\n",
       " [46, 48, 40],\n",
       " [47, 41]]"
      ]
     },
     "execution_count": 19,
     "metadata": {},
     "output_type": "execute_result"
    }
   ],
   "source": [
    "neighbors"
   ]
  },
  {
   "cell_type": "code",
   "execution_count": 20,
   "id": "da2b0544",
   "metadata": {},
   "outputs": [],
   "source": [
    "# Method for compressing the game board. I imagine it will mostly be used for human players\n",
    "# but it can also be used to make the board at the start of the game\n",
    "    \n",
    "import numpy as np\n",
    "\n",
    "def compress_board(stones, squares, grid):\n",
    "    \n",
    "    # Number of stones first\n",
    "    board = [stones]\n",
    "    \n",
    "    # squares (unused squares never need to be represented)\n",
    "    squares_list = squares.flatten().tolist()\n",
    "    board = board + squares_list\n",
    "    \n",
    "    # Grid last\n",
    "    grid_list = grid.flatten().tolist()\n",
    "    board = board + grid_list\n",
    "    \n",
    "    return board\n",
    "\n",
    "def decompress_board(board):\n",
    "    stones = board[0]\n",
    "    squares_list = board[1:33]\n",
    "    squares = np.array(squares_list).reshape((8, 4))\n",
    "    # add empty squares\n",
    "    grid_list = board[33:]\n",
    "    grid = np.array(grid_list).reshape((7, 7))\n",
    "    return stones, squares, grid\n",
    "\n",
    "def create_starting_board():\n",
    "    squares = np.zeros((8,4), dtype='b')\n",
    "    squares[3:5,1:3] = 1\n",
    "    squares[2,1] = 1\n",
    "    squares[5,2] = 1\n",
    "    grid = np.zeros((7,7), dtype='b')\n",
    "    starting_board = compress_board(66,squares,grid)\n",
    "    return starting_board\n",
    "\n",
    "# IMPORTANT! Make sure the positions lists are always up to date\n",
    "def list_checker_positions(board):\n",
    "    checker_list = []\n",
    "    for index, square in enumerate(board[1:33]):\n",
    "        if square == 1:\n",
    "            checker_list.append(index + 1)\n",
    "    return checker_list"
   ]
  },
  {
   "cell_type": "code",
   "execution_count": 21,
   "id": "9f6ca4b6",
   "metadata": {},
   "outputs": [
    {
     "name": "stdout",
     "output_type": "stream",
     "text": [
      "┌─┬─┬─┬─┬─┬─┬─┬─┐\n",
      "▗▄▖─▄─▄─▄─▄─▄─▄─▖\n",
      "▐█▛▀▜█▛▀▜█▛▀▜█▛▀▜\n",
      "▐\n",
      "▞\n",
      "▚\n",
      "©\n",
      "•\n",
      "―\n",
      "∎\n",
      "╋\n",
      "━\n",
      "┃\n",
      "█\n",
      "○\n",
      "◙\n",
      "└─┴─┴─┴─┴─┴─┴─┴─┘\n",
      "└─┴─┴─┴─┴─┴─┴─┴─┘\n",
      "\n"
     ]
    }
   ],
   "source": [
    "# Testing out unicode characters for drawing the board\n",
    "print(u\"\\u250c\\u2500\\u252c\\u2500\\u252c\\u2500\\u252c\\u2500\\u252c\\u2500\\u252c\\u2500\\u252c\\u2500\\u252c\\u2500\\u2510\")\n",
    "print(u\"\\u2597\\u2584\\u2596\\u2500\\u2584\\u2500\\u2584\\u2500\\u2584\\u2500\\u2584\\u2500\\u2584\\u2500\\u2584\\u2500\\u2596\")\n",
    "print(u\"\\u2590\\u2588\\u259B\\u2580\\u259C\\u2588\\u259B\\u2580\\u259C\\u2588\\u259B\\u2580\\u259C\\u2588\\u259B\\u2580\\u259C\")\n",
    "print(u\"\\u2590\")\n",
    "print(u\"\\u259E\")\n",
    "print(u\"\\u259A\")\n",
    "print(u\"\\u00A9\")\n",
    "print(u\"\\u2022\")\n",
    "print(u\"\\u2015\")\n",
    "print(u\"\\u220e\")\n",
    "print(u\"\\u254b\")\n",
    "print(u\"\\u2501\")\n",
    "print(u\"\\u2503\")\n",
    "print(u\"\\u2588\")\n",
    "print(u\"\\u25CB\")\n",
    "print(u\"\\u25D9\")\n",
    "print(u\"\\u2514\\u2500\\u2534\\u2500\\u2534\\u2500\\u2534\\u2500\\u2534\\u2500\\u2534\\u2500\\u2534\\u2500\\u2534\\u2500\\u2518\")\n",
    "print(u\"\\u2514\\u2500\\u2534\\u2500\\u2534\\u2500\\u2534\\u2500\\u2534\\u2500\\u2534\\u2500\\u2534\\u2500\\u2534\\u2500\\u2518\")\n",
    "print(u\"\")"
   ]
  },
  {
   "cell_type": "code",
   "execution_count": 22,
   "id": "f074edad",
   "metadata": {},
   "outputs": [],
   "source": [
    "def draw_board(board):\n",
    "    stones, squares, grid = decompress_board(board)\n",
    "    cross_glyph = u\"\\u253c\"\n",
    "    horizontal_line = u\"\\u2500\"\n",
    "    vertical_line = u\"\\u2502\"\n",
    "    black_left = u\"\\u2590\"\n",
    "    black_right = u\"\\u258c\"\n",
    "    black_top = u\"\\u2584\"\n",
    "    black_bottom = u\"\\u2580\"\n",
    "    black_middle = u\"\\u2588\"\n",
    "    black_corners_a = u\"\\u259E\"\n",
    "    black_corners_b = u\"\\u259A\"\n",
    "    copyright = u\"\\u00A9\"\n",
    "    fisheye = u\"\\u25C9\"\n",
    "    blackstone =u\"\\u25D9\"\n",
    "    print(u\"\\u2588\\u2588\\u259B\\u2580\\u259C\\u2588\\u259B\\u2580\\u259C\\u2588\\u259B\\u2580\\u259C\\u2588\\u259B\\u2580\\u259C\")\n",
    "    for i, row in enumerate(squares):\n",
    "        #print(i, row)\n",
    "        str = ' '\n",
    "        if i%2 == 0:\n",
    "            print(black_middle, end='')\n",
    "            for j, square in enumerate(row):\n",
    "                if j > 2:\n",
    "                    if square == 1:\n",
    "                        str = copyright\n",
    "                    else: str = \" \"\n",
    "                    print(black_middle, str, end=black_left, sep=black_right)\n",
    "                    \n",
    "                else:\n",
    "                    if square == 1:\n",
    "                        str = copyright\n",
    "                    else: str = \" \"\n",
    "                    print(black_middle, str, end=black_left, sep=black_right)\n",
    "            print('')\n",
    "            if i<7:\n",
    "                print(u\"\\u259B\", end='')\n",
    "                #print(grid[i, :])\n",
    "                print(black_bottom, end='')\n",
    "                for j, cross in enumerate(grid[i, :]):\n",
    "                    if j%2 == 0:\n",
    "                        if cross == 0:\n",
    "                            print(black_corners_b, end=black_top)\n",
    "                        else:\n",
    "                            print(blackstone, end=black_top)                        \n",
    "                    else:\n",
    "                        if cross == 0:\n",
    "                            print(black_corners_a, end=black_bottom)\n",
    "                        else:\n",
    "                            print(blackstone, end=black_bottom)\n",
    "                print(u\"\\u259F\")\n",
    "        else:\n",
    "            print(black_right, end='')\n",
    "            for j, square in enumerate(row):\n",
    "                if j > 2:\n",
    "                    if square == 1:\n",
    "                        str = copyright\n",
    "                    else: str = \" \"\n",
    "                    print(str, black_middle, end=black_middle, sep=black_left)\n",
    "                else:\n",
    "                    if square == 1:\n",
    "                        str = copyright\n",
    "                    else: str = \" \"\n",
    "                    print(str, black_middle, end=black_right, sep=black_left)\n",
    "            print('')\n",
    "            if i<7:\n",
    "                print(u\"\\u2599\", end='')\n",
    "                #print(grid[i, :])\n",
    "                print(black_top, end='')\n",
    "                for j, cross in enumerate(grid[i, :]):\n",
    "                    if j%2 == 0:\n",
    "                        if cross == 0:\n",
    "                            print(black_corners_a, end=black_bottom)\n",
    "                        else:\n",
    "                            print(blackstone, end=black_bottom)                    \n",
    "                    else:\n",
    "                        if cross == 0:\n",
    "                            print(black_corners_b, end=black_top)\n",
    "                        else:\n",
    "                            print(blackstone, end=black_top)    \n",
    "                print(u\"\\u259C\")\n",
    "    print(u\"\\u2599\\u2584\\u259F\\u2588\\u2599\\u2584\\u259F\\u2588\\u2599\\u2584\\u259F\\u2588\\u2599\\u2584\\u259F\\u2588\\u2588\")"
   ]
  },
  {
   "cell_type": "code",
   "execution_count": 23,
   "id": "51ac4ec2",
   "metadata": {},
   "outputs": [],
   "source": [
    "starting_board = create_starting_board()\n",
    "checker_positions = list_checker_positions(starting_board)"
   ]
  },
  {
   "cell_type": "code",
   "execution_count": 24,
   "id": "be953311",
   "metadata": {},
   "outputs": [
    {
     "data": {
      "text/plain": [
       "0"
      ]
     },
     "execution_count": 24,
     "metadata": {},
     "output_type": "execute_result"
    }
   ],
   "source": [
    "decompress_board(starting_board)[2][6, :][0]"
   ]
  },
  {
   "cell_type": "code",
   "execution_count": 25,
   "id": "06691469",
   "metadata": {},
   "outputs": [
    {
     "name": "stdout",
     "output_type": "stream",
     "text": [
      "██▛▀▜█▛▀▜█▛▀▜█▛▀▜\n",
      "██▌ ▐█▌ ▐█▌ ▐█▌ ▐\n",
      "▛▀▚▄▞▀▚▄▞▀▚▄▞▀▚▄▟\n",
      "▌ ▐█▌ ▐█▌ ▐█▌ ▐██\n",
      "▙▄▞▀▚▄▞▀▚▄▞▀▚▄▞▀▜\n",
      "██▌ ▐█▌©▐█▌ ▐█▌ ▐\n",
      "▛▀▚▄▞▀▚▄▞▀▚▄▞▀▚▄▟\n",
      "▌ ▐█▌©▐█▌©▐█▌ ▐██\n",
      "▙▄▞▀▚▄▞▀▚▄▞▀▚▄▞▀▜\n",
      "██▌ ▐█▌©▐█▌©▐█▌ ▐\n",
      "▛▀▚▄▞▀▚▄▞▀▚▄▞▀▚▄▟\n",
      "▌ ▐█▌ ▐█▌©▐█▌ ▐██\n",
      "▙▄▞▀▚▄▞▀▚▄▞▀▚▄▞▀▜\n",
      "██▌ ▐█▌ ▐█▌ ▐█▌ ▐\n",
      "▛▀▚▄▞▀▚▄▞▀▚▄▞▀▚▄▟\n",
      "▌ ▐█▌ ▐█▌ ▐█▌ ▐██\n",
      "▙▄▟█▙▄▟█▙▄▟█▙▄▟██\n"
     ]
    }
   ],
   "source": [
    "draw_board(starting_board)"
   ]
  },
  {
   "cell_type": "code",
   "execution_count": 26,
   "id": "ce6f5e1c",
   "metadata": {},
   "outputs": [
    {
     "data": {
      "text/plain": [
       "[10, 14, 15, 18, 19, 23]"
      ]
     },
     "execution_count": 26,
     "metadata": {},
     "output_type": "execute_result"
    }
   ],
   "source": [
    "checker_positions"
   ]
  },
  {
   "cell_type": "code",
   "execution_count": 27,
   "id": "a29ec3fc",
   "metadata": {},
   "outputs": [
    {
     "data": {
      "text/plain": [
       "1"
      ]
     },
     "execution_count": 27,
     "metadata": {},
     "output_type": "execute_result"
    }
   ],
   "source": [
    "starting_board[10]"
   ]
  },
  {
   "cell_type": "code",
   "execution_count": 28,
   "id": "d09d51cc",
   "metadata": {},
   "outputs": [
    {
     "data": {
      "text/plain": [
       "(66,\n",
       " array([[0, 0, 0, 0],\n",
       "        [0, 0, 0, 0],\n",
       "        [0, 1, 0, 0],\n",
       "        [0, 1, 1, 0],\n",
       "        [0, 1, 1, 0],\n",
       "        [0, 0, 1, 0],\n",
       "        [0, 0, 0, 0],\n",
       "        [0, 0, 0, 0]]),\n",
       " array([[0, 0, 0, 0, 0, 0, 0],\n",
       "        [0, 0, 0, 0, 0, 0, 0],\n",
       "        [0, 0, 0, 0, 0, 0, 0],\n",
       "        [0, 0, 0, 0, 0, 0, 0],\n",
       "        [0, 0, 0, 0, 0, 0, 0],\n",
       "        [0, 0, 0, 0, 0, 0, 0],\n",
       "        [0, 0, 0, 0, 0, 0, 0]]))"
      ]
     },
     "execution_count": 28,
     "metadata": {},
     "output_type": "execute_result"
    }
   ],
   "source": [
    "decompress_board(starting_board)"
   ]
  },
  {
   "cell_type": "code",
   "execution_count": 29,
   "id": "eb1fbcb2",
   "metadata": {},
   "outputs": [],
   "source": [
    "import copy\n",
    "# TODO: Get all free crosses next to stones\n",
    "# TODO: Check for one free cross next to that stone\n",
    "# TODO: Make a special case for the first move of the game\n",
    "\n",
    "def get_guerilla_moves(board):\n",
    "    move_list=[]\n",
    "    # TODO: Find out if it's necessary to make a copy of the board for each move\n",
    "    # First move, if the guerilla player is still holding all their stones\n",
    "    if board[0] == 66:\n",
    "        for i in range(48):\n",
    "            if i < 42:\n",
    "                new_board = copy.copy(board)\n",
    "                new_board[i + 33] = 1\n",
    "                new_board[i + 33 + 7] = 1\n",
    "                new_board[0] -= 2\n",
    "                move_list.append(new_board)\n",
    "            if (i+1)%7 != 0:\n",
    "                new_board = copy.copy(board)\n",
    "                new_board[i + 33] = 1\n",
    "                new_board[i + 33 + 1] = 1\n",
    "                new_board[0] -= 2\n",
    "                move_list.append(new_board)\n",
    "    else:\n",
    "        # Find occupied crosses\n",
    "        for index, cross in enumerate(board[33:]):\n",
    "            if cross == 1:\n",
    "                # TODO: Make sure the name and index of the neighbors list is correct!\n",
    "                for neighbor in neighbors[index]:\n",
    "                    if board[neighbor + 33] == 0:\n",
    "                        for neighborbor in neighbors[neighbor]:\n",
    "                            if board[neighborbor + 33] == 0:\n",
    "                                new_board = copy.copy(board)\n",
    "                                new_board[neighbor + 33] = 1\n",
    "                                new_board[neighborbor + 33] = 1\n",
    "                                new_board = check_surround(new_board)\n",
    "                                new_board[0] -= 2\n",
    "                                move_list.append(new_board)\n",
    "    return move_list\n",
    "\n",
    "def check_surround(board, positions = checker_positions):\n",
    "    for position in positions:\n",
    "        surrounded = True\n",
    "        for cross in diagonals[position - 1]:\n",
    "            if board[cross[1]] == 0:\n",
    "                surrounded = False\n",
    "        if surrounded:\n",
    "            board[position] = 0\n",
    "    return board"
   ]
  },
  {
   "cell_type": "code",
   "execution_count": 30,
   "id": "f4562311",
   "metadata": {},
   "outputs": [
    {
     "data": {
      "text/plain": [
       "[[5, 42], [6, 43], [13, 49], [14, 50]]"
      ]
     },
     "execution_count": 30,
     "metadata": {},
     "output_type": "execute_result"
    }
   ],
   "source": [
    "diagonals[checker_positions[0]-1]"
   ]
  },
  {
   "cell_type": "markdown",
   "id": "ae525d60",
   "metadata": {},
   "source": [
    "För att få alla möjliga drag gäller det att kolla var det finns brickor. \n",
    " + Sådana moves som leder ovanpå en annan bricka måste uteslutas\n",
    " + För de moves som går över motståndarens sten måste en till (obligatorisk) move hämtas\n",
    "     + OBS att detta gäller endast om det finns en till move som passerar över motståndarens sten"
   ]
  },
  {
   "cell_type": "code",
   "execution_count": 57,
   "id": "39f3d785",
   "metadata": {},
   "outputs": [],
   "source": [
    "# TODO: Get moves for all existing COIN pieces, removing collisions\n",
    "# TODO: Make a list of which cross to check on a particular COIN move\n",
    "import copy\n",
    "\n",
    "def get_COIN_moves(board):\n",
    "    move_list=[]\n",
    "    \n",
    "    # The checkers are reproducing somehow, make it stop!\n",
    "    for position in checker_positions:\n",
    "            # Check for possible moves\n",
    "            for diagonal in diagonals[position - 1]:\n",
    "                if board[diagonal[0] + 1] == 0:\n",
    "                    new_board = copy.copy(board)\n",
    "                    new_board[position] = 0\n",
    "                    new_board[diagonal[0] + 1] = 1\n",
    "                    if board[diagonal[1]] == 1:\n",
    "                        new_board[diagonal[1]] = 0\n",
    "                        move_list += capture_and_move(new_board, diagonal[0] + 1)\n",
    "                    else:\n",
    "                        move_list.append(new_board)\n",
    "                        # Capture and recurse\n",
    "    # A move is represented by the board state produed by that move\n",
    "    return move_list\n",
    "\n",
    "def capture_and_move(board, position):\n",
    "    new_moves = []\n",
    "    jumped = False\n",
    "    for diagonal in diagonals[position - 1]:\n",
    "        if board[diagonal[1]] == 1 and board[diagonal[0] + 1] == 0:\n",
    "            jumped = True\n",
    "            new_board = copy.copy(board)\n",
    "            new_board[position] = 0\n",
    "            new_board[diagonal[0] + 1] = 1\n",
    "            new_board[diagonal[1]] = 0\n",
    "            # breakpoint()\n",
    "            new_moves += capture_and_move(new_board, diagonal[0] + 1)\n",
    "    if not jumped:\n",
    "        new_moves.append(board)\n",
    "    return new_moves\n",
    "    # BROBLEM?: The possible series of captures will be both recursive and branching"
   ]
  },
  {
   "cell_type": "code",
   "execution_count": 32,
   "id": "73d39fd8",
   "metadata": {},
   "outputs": [],
   "source": [
    "# TODO: Make a test for the code in the cell above\n",
    "\n",
    "first_moves = get_guerilla_moves(starting_board)"
   ]
  },
  {
   "cell_type": "code",
   "execution_count": 33,
   "id": "ef9ad6db",
   "metadata": {},
   "outputs": [
    {
     "data": {
      "text/plain": [
       "84"
      ]
     },
     "execution_count": 33,
     "metadata": {},
     "output_type": "execute_result"
    }
   ],
   "source": [
    "len(first_moves)"
   ]
  },
  {
   "cell_type": "code",
   "execution_count": 34,
   "id": "44bea581",
   "metadata": {},
   "outputs": [
    {
     "name": "stdout",
     "output_type": "stream",
     "text": [
      "██▛▀▜█▛▀▜█▛▀▜█▛▀▜\n",
      "██▌ ▐█▌ ▐█▌ ▐█▌ ▐\n",
      "▛▀▚▄▞▀◙▄▞▀▚▄▞▀▚▄▟\n",
      "▌ ▐█▌ ▐█▌ ▐█▌ ▐██\n",
      "▙▄▞▀▚▄◙▀▚▄▞▀▚▄▞▀▜\n",
      "██▌ ▐█▌©▐█▌ ▐█▌ ▐\n",
      "▛▀▚▄▞▀▚▄▞▀▚▄▞▀▚▄▟\n",
      "▌ ▐█▌©▐█▌©▐█▌ ▐██\n",
      "▙▄▞▀▚▄▞▀▚▄▞▀▚▄▞▀▜\n",
      "██▌ ▐█▌©▐█▌©▐█▌ ▐\n",
      "▛▀▚▄▞▀▚▄▞▀▚▄▞▀▚▄▟\n",
      "▌ ▐█▌ ▐█▌©▐█▌ ▐██\n",
      "▙▄▞▀▚▄▞▀▚▄▞▀▚▄▞▀▜\n",
      "██▌ ▐█▌ ▐█▌ ▐█▌ ▐\n",
      "▛▀▚▄▞▀▚▄▞▀▚▄▞▀▚▄▟\n",
      "▌ ▐█▌ ▐█▌ ▐█▌ ▐██\n",
      "▙▄▟█▙▄▟█▙▄▟█▙▄▟██\n"
     ]
    }
   ],
   "source": [
    "draw_board(first_moves[4])"
   ]
  },
  {
   "cell_type": "code",
   "execution_count": 35,
   "id": "880220e8",
   "metadata": {},
   "outputs": [],
   "source": [
    "first_COIN_moves = get_COIN_moves(first_moves[4])"
   ]
  },
  {
   "cell_type": "code",
   "execution_count": 36,
   "id": "326065bf",
   "metadata": {},
   "outputs": [
    {
     "data": {
      "text/plain": [
       "1"
      ]
     },
     "execution_count": 36,
     "metadata": {},
     "output_type": "execute_result"
    }
   ],
   "source": [
    "first_moves[4][35]"
   ]
  },
  {
   "cell_type": "code",
   "execution_count": 37,
   "id": "4a4e04cd",
   "metadata": {},
   "outputs": [
    {
     "data": {
      "text/plain": [
       "[[6, 44], [7, 45], [14, 51], [15, 52]]"
      ]
     },
     "execution_count": 37,
     "metadata": {},
     "output_type": "execute_result"
    }
   ],
   "source": [
    "diagonals[10]"
   ]
  },
  {
   "cell_type": "code",
   "execution_count": 38,
   "id": "ab8732a8",
   "metadata": {},
   "outputs": [
    {
     "name": "stdout",
     "output_type": "stream",
     "text": [
      "██▛▀▜█▛▀▜█▛▀▜█▛▀▜\n",
      "██▌ ▐█▌ ▐█▌ ▐█▌ ▐\n",
      "▛▀▚▄▞▀◙▄▞▀▚▄▞▀▚▄▟\n",
      "▌ ▐█▌ ▐█▌©▐█▌ ▐██\n",
      "▙▄▞▀▚▄◙▀▚▄▞▀▚▄▞▀▜\n",
      "██▌ ▐█▌ ▐█▌ ▐█▌ ▐\n",
      "▛▀▚▄▞▀▚▄▞▀▚▄▞▀▚▄▟\n",
      "▌ ▐█▌©▐█▌©▐█▌ ▐██\n",
      "▙▄▞▀▚▄▞▀▚▄▞▀▚▄▞▀▜\n",
      "██▌ ▐█▌©▐█▌©▐█▌ ▐\n",
      "▛▀▚▄▞▀▚▄▞▀▚▄▞▀▚▄▟\n",
      "▌ ▐█▌ ▐█▌©▐█▌ ▐██\n",
      "▙▄▞▀▚▄▞▀▚▄▞▀▚▄▞▀▜\n",
      "██▌ ▐█▌ ▐█▌ ▐█▌ ▐\n",
      "▛▀▚▄▞▀▚▄▞▀▚▄▞▀▚▄▟\n",
      "▌ ▐█▌ ▐█▌ ▐█▌ ▐██\n",
      "▙▄▟█▙▄▟█▙▄▟█▙▄▟██\n"
     ]
    }
   ],
   "source": [
    "draw_board(first_COIN_moves[1])"
   ]
  },
  {
   "cell_type": "code",
   "execution_count": 39,
   "id": "b1192c29",
   "metadata": {},
   "outputs": [
    {
     "data": {
      "text/plain": [
       "10"
      ]
     },
     "execution_count": 39,
     "metadata": {},
     "output_type": "execute_result"
    }
   ],
   "source": [
    "len(first_COIN_moves)"
   ]
  },
  {
   "cell_type": "code",
   "execution_count": 40,
   "id": "a1008cd9",
   "metadata": {},
   "outputs": [
    {
     "name": "stdout",
     "output_type": "stream",
     "text": [
      "██▛▀▜█▛▀▜█▛▀▜█▛▀▜\n",
      "██▌ ▐█▌©▐█▌ ▐█▌ ▐\n",
      "▛▀▚▄▞▀▚▄▞▀▚▄▞▀▚▄▟\n",
      "▌ ▐█▌ ▐█▌ ▐█▌ ▐██\n",
      "▙▄▞▀▚▄▞▀▚▄▞▀▚▄▞▀▜\n",
      "██▌ ▐█▌ ▐█▌ ▐█▌ ▐\n",
      "▛▀▚▄▞▀▚▄▞▀▚▄▞▀▚▄▟\n",
      "▌ ▐█▌©▐█▌©▐█▌ ▐██\n",
      "▙▄▞▀▚▄▞▀▚▄▞▀▚▄▞▀▜\n",
      "██▌ ▐█▌©▐█▌©▐█▌ ▐\n",
      "▛▀▚▄▞▀▚▄▞▀▚▄▞▀▚▄▟\n",
      "▌ ▐█▌ ▐█▌©▐█▌ ▐██\n",
      "▙▄▞▀▚▄▞▀▚▄▞▀▚▄▞▀▜\n",
      "██▌ ▐█▌ ▐█▌ ▐█▌ ▐\n",
      "▛▀▚▄▞▀▚▄▞▀▚▄▞▀▚▄▟\n",
      "▌ ▐█▌ ▐█▌ ▐█▌ ▐██\n",
      "▙▄▟█▙▄▟█▙▄▟█▙▄▟██\n",
      "██▛▀▜█▛▀▜█▛▀▜█▛▀▜\n",
      "██▌ ▐█▌ ▐█▌ ▐█▌ ▐\n",
      "▛▀▚▄▞▀◙▄▞▀▚▄▞▀▚▄▟\n",
      "▌ ▐█▌ ▐█▌©▐█▌ ▐██\n",
      "▙▄▞▀▚▄◙▀▚▄▞▀▚▄▞▀▜\n",
      "██▌ ▐█▌ ▐█▌ ▐█▌ ▐\n",
      "▛▀▚▄▞▀▚▄▞▀▚▄▞▀▚▄▟\n",
      "▌ ▐█▌©▐█▌©▐█▌ ▐██\n",
      "▙▄▞▀▚▄▞▀▚▄▞▀▚▄▞▀▜\n",
      "██▌ ▐█▌©▐█▌©▐█▌ ▐\n",
      "▛▀▚▄▞▀▚▄▞▀▚▄▞▀▚▄▟\n",
      "▌ ▐█▌ ▐█▌©▐█▌ ▐██\n",
      "▙▄▞▀▚▄▞▀▚▄▞▀▚▄▞▀▜\n",
      "██▌ ▐█▌ ▐█▌ ▐█▌ ▐\n",
      "▛▀▚▄▞▀▚▄▞▀▚▄▞▀▚▄▟\n",
      "▌ ▐█▌ ▐█▌ ▐█▌ ▐██\n",
      "▙▄▟█▙▄▟█▙▄▟█▙▄▟██\n",
      "██▛▀▜█▛▀▜█▛▀▜█▛▀▜\n",
      "██▌ ▐█▌ ▐█▌ ▐█▌ ▐\n",
      "▛▀▚▄▞▀◙▄▞▀▚▄▞▀▚▄▟\n",
      "▌ ▐█▌ ▐█▌ ▐█▌ ▐██\n",
      "▙▄▞▀▚▄◙▀▚▄▞▀▚▄▞▀▜\n",
      "██▌©▐█▌©▐█▌ ▐█▌ ▐\n",
      "▛▀▚▄▞▀▚▄▞▀▚▄▞▀▚▄▟\n",
      "▌ ▐█▌ ▐█▌©▐█▌ ▐██\n",
      "▙▄▞▀▚▄▞▀▚▄▞▀▚▄▞▀▜\n",
      "██▌ ▐█▌©▐█▌©▐█▌ ▐\n",
      "▛▀▚▄▞▀▚▄▞▀▚▄▞▀▚▄▟\n",
      "▌ ▐█▌ ▐█▌©▐█▌ ▐██\n",
      "▙▄▞▀▚▄▞▀▚▄▞▀▚▄▞▀▜\n",
      "██▌ ▐█▌ ▐█▌ ▐█▌ ▐\n",
      "▛▀▚▄▞▀▚▄▞▀▚▄▞▀▚▄▟\n",
      "▌ ▐█▌ ▐█▌ ▐█▌ ▐██\n",
      "▙▄▟█▙▄▟█▙▄▟█▙▄▟██\n",
      "██▛▀▜█▛▀▜█▛▀▜█▛▀▜\n",
      "██▌ ▐█▌ ▐█▌ ▐█▌ ▐\n",
      "▛▀▚▄▞▀◙▄▞▀▚▄▞▀▚▄▟\n",
      "▌ ▐█▌ ▐█▌ ▐█▌ ▐██\n",
      "▙▄▞▀▚▄◙▀▚▄▞▀▚▄▞▀▜\n",
      "██▌ ▐█▌©▐█▌ ▐█▌ ▐\n",
      "▛▀▚▄▞▀▚▄▞▀▚▄▞▀▚▄▟\n",
      "▌ ▐█▌ ▐█▌©▐█▌ ▐██\n",
      "▙▄▞▀▚▄▞▀▚▄▞▀▚▄▞▀▜\n",
      "██▌©▐█▌©▐█▌©▐█▌ ▐\n",
      "▛▀▚▄▞▀▚▄▞▀▚▄▞▀▚▄▟\n",
      "▌ ▐█▌ ▐█▌©▐█▌ ▐██\n",
      "▙▄▞▀▚▄▞▀▚▄▞▀▚▄▞▀▜\n",
      "██▌ ▐█▌ ▐█▌ ▐█▌ ▐\n",
      "▛▀▚▄▞▀▚▄▞▀▚▄▞▀▚▄▟\n",
      "▌ ▐█▌ ▐█▌ ▐█▌ ▐██\n",
      "▙▄▟█▙▄▟█▙▄▟█▙▄▟██\n",
      "██▛▀▜█▛▀▜█▛▀▜█▛▀▜\n",
      "██▌ ▐█▌ ▐█▌ ▐█▌ ▐\n",
      "▛▀▚▄▞▀◙▄▞▀▚▄▞▀▚▄▟\n",
      "▌ ▐█▌ ▐█▌ ▐█▌ ▐██\n",
      "▙▄▞▀▚▄◙▀▚▄▞▀▚▄▞▀▜\n",
      "██▌ ▐█▌©▐█▌©▐█▌ ▐\n",
      "▛▀▚▄▞▀▚▄▞▀▚▄▞▀▚▄▟\n",
      "▌ ▐█▌©▐█▌ ▐█▌ ▐██\n",
      "▙▄▞▀▚▄▞▀▚▄▞▀▚▄▞▀▜\n",
      "██▌ ▐█▌©▐█▌©▐█▌ ▐\n",
      "▛▀▚▄▞▀▚▄▞▀▚▄▞▀▚▄▟\n",
      "▌ ▐█▌ ▐█▌©▐█▌ ▐██\n",
      "▙▄▞▀▚▄▞▀▚▄▞▀▚▄▞▀▜\n",
      "██▌ ▐█▌ ▐█▌ ▐█▌ ▐\n",
      "▛▀▚▄▞▀▚▄▞▀▚▄▞▀▚▄▟\n",
      "▌ ▐█▌ ▐█▌ ▐█▌ ▐██\n",
      "▙▄▟█▙▄▟█▙▄▟█▙▄▟██\n",
      "██▛▀▜█▛▀▜█▛▀▜█▛▀▜\n",
      "██▌ ▐█▌ ▐█▌ ▐█▌ ▐\n",
      "▛▀▚▄▞▀◙▄▞▀▚▄▞▀▚▄▟\n",
      "▌ ▐█▌ ▐█▌ ▐█▌ ▐██\n",
      "▙▄▞▀▚▄◙▀▚▄▞▀▚▄▞▀▜\n",
      "██▌ ▐█▌©▐█▌ ▐█▌ ▐\n",
      "▛▀▚▄▞▀▚▄▞▀▚▄▞▀▚▄▟\n",
      "▌ ▐█▌©▐█▌©▐█▌ ▐██\n",
      "▙▄▞▀▚▄▞▀▚▄▞▀▚▄▞▀▜\n",
      "██▌ ▐█▌ ▐█▌©▐█▌ ▐\n",
      "▛▀▚▄▞▀▚▄▞▀▚▄▞▀▚▄▟\n",
      "▌ ▐█▌©▐█▌©▐█▌ ▐██\n",
      "▙▄▞▀▚▄▞▀▚▄▞▀▚▄▞▀▜\n",
      "██▌ ▐█▌ ▐█▌ ▐█▌ ▐\n",
      "▛▀▚▄▞▀▚▄▞▀▚▄▞▀▚▄▟\n",
      "▌ ▐█▌ ▐█▌ ▐█▌ ▐██\n",
      "▙▄▟█▙▄▟█▙▄▟█▙▄▟██\n",
      "██▛▀▜█▛▀▜█▛▀▜█▛▀▜\n",
      "██▌ ▐█▌ ▐█▌ ▐█▌ ▐\n",
      "▛▀▚▄▞▀◙▄▞▀▚▄▞▀▚▄▟\n",
      "▌ ▐█▌ ▐█▌ ▐█▌ ▐██\n",
      "▙▄▞▀▚▄◙▀▚▄▞▀▚▄▞▀▜\n",
      "██▌ ▐█▌©▐█▌ ▐█▌ ▐\n",
      "▛▀▚▄▞▀▚▄▞▀▚▄▞▀▚▄▟\n",
      "▌ ▐█▌©▐█▌©▐█▌©▐██\n",
      "▙▄▞▀▚▄▞▀▚▄▞▀▚▄▞▀▜\n",
      "██▌ ▐█▌©▐█▌ ▐█▌ ▐\n",
      "▛▀▚▄▞▀▚▄▞▀▚▄▞▀▚▄▟\n",
      "▌ ▐█▌ ▐█▌©▐█▌ ▐██\n",
      "▙▄▞▀▚▄▞▀▚▄▞▀▚▄▞▀▜\n",
      "██▌ ▐█▌ ▐█▌ ▐█▌ ▐\n",
      "▛▀▚▄▞▀▚▄▞▀▚▄▞▀▚▄▟\n",
      "▌ ▐█▌ ▐█▌ ▐█▌ ▐██\n",
      "▙▄▟█▙▄▟█▙▄▟█▙▄▟██\n",
      "██▛▀▜█▛▀▜█▛▀▜█▛▀▜\n",
      "██▌ ▐█▌ ▐█▌ ▐█▌ ▐\n",
      "▛▀▚▄▞▀◙▄▞▀▚▄▞▀▚▄▟\n",
      "▌ ▐█▌ ▐█▌ ▐█▌ ▐██\n",
      "▙▄▞▀▚▄◙▀▚▄▞▀▚▄▞▀▜\n",
      "██▌ ▐█▌©▐█▌ ▐█▌ ▐\n",
      "▛▀▚▄▞▀▚▄▞▀▚▄▞▀▚▄▟\n",
      "▌ ▐█▌©▐█▌©▐█▌ ▐██\n",
      "▙▄▞▀▚▄▞▀▚▄▞▀▚▄▞▀▜\n",
      "██▌ ▐█▌©▐█▌ ▐█▌ ▐\n",
      "▛▀▚▄▞▀▚▄▞▀▚▄▞▀▚▄▟\n",
      "▌ ▐█▌ ▐█▌©▐█▌©▐██\n",
      "▙▄▞▀▚▄▞▀▚▄▞▀▚▄▞▀▜\n",
      "██▌ ▐█▌ ▐█▌ ▐█▌ ▐\n",
      "▛▀▚▄▞▀▚▄▞▀▚▄▞▀▚▄▟\n",
      "▌ ▐█▌ ▐█▌ ▐█▌ ▐██\n",
      "▙▄▟█▙▄▟█▙▄▟█▙▄▟██\n",
      "██▛▀▜█▛▀▜█▛▀▜█▛▀▜\n",
      "██▌ ▐█▌ ▐█▌ ▐█▌ ▐\n",
      "▛▀▚▄▞▀◙▄▞▀▚▄▞▀▚▄▟\n",
      "▌ ▐█▌ ▐█▌ ▐█▌ ▐██\n",
      "▙▄▞▀▚▄◙▀▚▄▞▀▚▄▞▀▜\n",
      "██▌ ▐█▌©▐█▌ ▐█▌ ▐\n",
      "▛▀▚▄▞▀▚▄▞▀▚▄▞▀▚▄▟\n",
      "▌ ▐█▌©▐█▌©▐█▌ ▐██\n",
      "▙▄▞▀▚▄▞▀▚▄▞▀▚▄▞▀▜\n",
      "██▌ ▐█▌©▐█▌©▐█▌ ▐\n",
      "▛▀▚▄▞▀▚▄▞▀▚▄▞▀▚▄▟\n",
      "▌ ▐█▌ ▐█▌ ▐█▌ ▐██\n",
      "▙▄▞▀▚▄▞▀▚▄▞▀▚▄▞▀▜\n",
      "██▌ ▐█▌©▐█▌ ▐█▌ ▐\n",
      "▛▀▚▄▞▀▚▄▞▀▚▄▞▀▚▄▟\n",
      "▌ ▐█▌ ▐█▌ ▐█▌ ▐██\n",
      "▙▄▟█▙▄▟█▙▄▟█▙▄▟██\n",
      "██▛▀▜█▛▀▜█▛▀▜█▛▀▜\n",
      "██▌ ▐█▌ ▐█▌ ▐█▌ ▐\n",
      "▛▀▚▄▞▀◙▄▞▀▚▄▞▀▚▄▟\n",
      "▌ ▐█▌ ▐█▌ ▐█▌ ▐██\n",
      "▙▄▞▀▚▄◙▀▚▄▞▀▚▄▞▀▜\n",
      "██▌ ▐█▌©▐█▌ ▐█▌ ▐\n",
      "▛▀▚▄▞▀▚▄▞▀▚▄▞▀▚▄▟\n",
      "▌ ▐█▌©▐█▌©▐█▌ ▐██\n",
      "▙▄▞▀▚▄▞▀▚▄▞▀▚▄▞▀▜\n",
      "██▌ ▐█▌©▐█▌©▐█▌ ▐\n",
      "▛▀▚▄▞▀▚▄▞▀▚▄▞▀▚▄▟\n",
      "▌ ▐█▌ ▐█▌ ▐█▌ ▐██\n",
      "▙▄▞▀▚▄▞▀▚▄▞▀▚▄▞▀▜\n",
      "██▌ ▐█▌ ▐█▌©▐█▌ ▐\n",
      "▛▀▚▄▞▀▚▄▞▀▚▄▞▀▚▄▟\n",
      "▌ ▐█▌ ▐█▌ ▐█▌ ▐██\n",
      "▙▄▟█▙▄▟█▙▄▟█▙▄▟██\n"
     ]
    }
   ],
   "source": [
    "for board in first_COIN_moves:\n",
    "    draw_board(board)"
   ]
  },
  {
   "cell_type": "code",
   "execution_count": 41,
   "id": "468eece2",
   "metadata": {},
   "outputs": [
    {
     "data": {
      "text/plain": [
       "[[6, 44], [7, 45], [14, 51], [15, 52]]"
      ]
     },
     "execution_count": 41,
     "metadata": {},
     "output_type": "execute_result"
    }
   ],
   "source": [
    "diagonals[10]"
   ]
  },
  {
   "cell_type": "code",
   "execution_count": 42,
   "id": "53a7a70a",
   "metadata": {},
   "outputs": [
    {
     "data": {
      "text/plain": [
       "0"
      ]
     },
     "execution_count": 42,
     "metadata": {},
     "output_type": "execute_result"
    }
   ],
   "source": [
    "first_COIN_moves[0][48]"
   ]
  },
  {
   "cell_type": "code",
   "execution_count": 43,
   "id": "1b09c3d1",
   "metadata": {},
   "outputs": [
    {
     "data": {
      "text/plain": [
       "82"
      ]
     },
     "execution_count": 43,
     "metadata": {},
     "output_type": "execute_result"
    }
   ],
   "source": [
    "len(starting_board)"
   ]
  },
  {
   "cell_type": "code",
   "execution_count": 44,
   "id": "f3be8bc6",
   "metadata": {},
   "outputs": [],
   "source": [
    "test_board = list(range(82))"
   ]
  },
  {
   "cell_type": "code",
   "execution_count": 45,
   "id": "a1bd1268",
   "metadata": {},
   "outputs": [
    {
     "data": {
      "text/plain": [
       "(0,\n",
       " array([[ 1,  2,  3,  4],\n",
       "        [ 5,  6,  7,  8],\n",
       "        [ 9, 10, 11, 12],\n",
       "        [13, 14, 15, 16],\n",
       "        [17, 18, 19, 20],\n",
       "        [21, 22, 23, 24],\n",
       "        [25, 26, 27, 28],\n",
       "        [29, 30, 31, 32]]),\n",
       " array([[33, 34, 35, 36, 37, 38, 39],\n",
       "        [40, 41, 42, 43, 44, 45, 46],\n",
       "        [47, 48, 49, 50, 51, 52, 53],\n",
       "        [54, 55, 56, 57, 58, 59, 60],\n",
       "        [61, 62, 63, 64, 65, 66, 67],\n",
       "        [68, 69, 70, 71, 72, 73, 74],\n",
       "        [75, 76, 77, 78, 79, 80, 81]]))"
      ]
     },
     "execution_count": 45,
     "metadata": {},
     "output_type": "execute_result"
    }
   ],
   "source": [
    "decompress_board(test_board)"
   ]
  },
  {
   "cell_type": "code",
   "execution_count": 46,
   "id": "5c53ed20",
   "metadata": {},
   "outputs": [
    {
     "data": {
      "text/plain": [
       "[10, 14, 15, 18, 19, 23]"
      ]
     },
     "execution_count": 46,
     "metadata": {},
     "output_type": "execute_result"
    }
   ],
   "source": [
    "checker_positions"
   ]
  },
  {
   "cell_type": "code",
   "execution_count": 47,
   "id": "220c00f2",
   "metadata": {},
   "outputs": [],
   "source": [
    "def is_game_over(board):\n",
    "    if board[0] <= 0:\n",
    "        return True\n",
    "    if len(checker_positions) <= 0:\n",
    "        return True\n",
    "    else:\n",
    "        return False"
   ]
  },
  {
   "cell_type": "code",
   "execution_count": 56,
   "id": "58f3d4e5",
   "metadata": {},
   "outputs": [],
   "source": [
    "import random\n",
    "\n",
    "def randomised_game(draw=False):\n",
    "    board = starting_board\n",
    "    game_record = [starting_board]\n",
    "    guerilla_turn = True\n",
    "    if draw:\n",
    "        draw_board(board)\n",
    "    while not is_game_over(board):\n",
    "        if guerilla_turn:\n",
    "            board = random.choice(get_guerilla_moves(board))\n",
    "        else:\n",
    "            checker_positions = list_checker_positions(board)\n",
    "            board = random.choice(get_COIN_moves(board))\n",
    "        guerilla_turn = not guerilla_turn\n",
    "        if draw:\n",
    "            if guerilla_turn:\n",
    "                print('Guerilla', end='')\n",
    "            else:\n",
    "                print('COIN', end='')\n",
    "            print(' turn ' + str(len(game_record)))\n",
    "            draw_board(board)\n",
    "        game_record.append(board)\n",
    "    return game_record"
   ]
  },
  {
   "cell_type": "code",
   "execution_count": 58,
   "id": "4c8cdac4",
   "metadata": {
    "scrolled": false
   },
   "outputs": [
    {
     "name": "stdout",
     "output_type": "stream",
     "text": [
      "██▛▀▜█▛▀▜█▛▀▜█▛▀▜\n",
      "██▌ ▐█▌ ▐█▌ ▐█▌ ▐\n",
      "▛▀▚▄▞▀▚▄▞▀▚▄▞▀▚▄▟\n",
      "▌ ▐█▌ ▐█▌ ▐█▌ ▐██\n",
      "▙▄▞▀▚▄▞▀▚▄▞▀▚▄▞▀▜\n",
      "██▌ ▐█▌©▐█▌ ▐█▌ ▐\n",
      "▛▀▚▄▞▀▚▄▞▀▚▄▞▀▚▄▟\n",
      "▌ ▐█▌©▐█▌©▐█▌ ▐██\n",
      "▙▄▞▀▚▄▞▀▚▄▞▀▚▄▞▀▜\n",
      "██▌ ▐█▌©▐█▌©▐█▌ ▐\n",
      "▛▀▚▄▞▀▚▄▞▀▚▄▞▀▚▄▟\n",
      "▌ ▐█▌ ▐█▌©▐█▌ ▐██\n",
      "▙▄▞▀▚▄▞▀▚▄▞▀▚▄▞▀▜\n",
      "██▌ ▐█▌ ▐█▌ ▐█▌ ▐\n",
      "▛▀▚▄▞▀▚▄▞▀▚▄▞▀▚▄▟\n",
      "▌ ▐█▌ ▐█▌ ▐█▌ ▐██\n",
      "▙▄▟█▙▄▟█▙▄▟█▙▄▟██\n",
      "COIN turn 1\n",
      "██▛▀▜█▛▀▜█▛▀▜█▛▀▜\n",
      "██▌ ▐█▌ ▐█▌ ▐█▌ ▐\n",
      "▛▀▚▄▞▀▚▄▞▀▚▄▞▀▚▄▟\n",
      "▌ ▐█▌ ▐█▌ ▐█▌ ▐██\n",
      "▙▄▞▀▚▄▞▀▚▄▞▀▚▄▞▀▜\n",
      "██▌ ▐█▌©▐█▌ ▐█▌ ▐\n",
      "▛▀▚▄▞▀▚▄▞▀▚▄▞▀▚▄▟\n",
      "▌ ▐█▌©▐█▌©▐█▌ ▐██\n",
      "▙▄▞▀▚▄▞▀▚▄▞▀▚▄▞▀▜\n",
      "██▌ ▐█▌©▐█▌©▐█▌ ▐\n",
      "▛▀▚▄▞▀▚▄▞▀▚▄▞▀▚▄▟\n",
      "▌ ▐█▌ ▐█▌©▐█▌ ▐██\n",
      "▙▄▞▀▚▄◙▀◙▄▞▀▚▄▞▀▜\n",
      "██▌ ▐█▌ ▐█▌ ▐█▌ ▐\n",
      "▛▀▚▄▞▀▚▄▞▀▚▄▞▀▚▄▟\n",
      "▌ ▐█▌ ▐█▌ ▐█▌ ▐██\n",
      "▙▄▟█▙▄▟█▙▄▟█▙▄▟██\n",
      "> \u001b[0;32m/tmp/ipykernel_8524/739879128.py\u001b[0m(36)\u001b[0;36mcapture_and_move\u001b[0;34m()\u001b[0m\n",
      "\u001b[0;32m     34 \u001b[0;31m            \u001b[0mnew_board\u001b[0m\u001b[0;34m[\u001b[0m\u001b[0mdiagonal\u001b[0m\u001b[0;34m[\u001b[0m\u001b[0;36m1\u001b[0m\u001b[0;34m]\u001b[0m\u001b[0;34m]\u001b[0m \u001b[0;34m=\u001b[0m \u001b[0;36m0\u001b[0m\u001b[0;34m\u001b[0m\u001b[0;34m\u001b[0m\u001b[0m\n",
      "\u001b[0m\u001b[0;32m     35 \u001b[0;31m            \u001b[0mbreakpoint\u001b[0m\u001b[0;34m(\u001b[0m\u001b[0;34m)\u001b[0m\u001b[0;34m\u001b[0m\u001b[0;34m\u001b[0m\u001b[0m\n",
      "\u001b[0m\u001b[0;32m---> 36 \u001b[0;31m            \u001b[0mnew_moves\u001b[0m \u001b[0;34m+=\u001b[0m \u001b[0mcapture_and_move\u001b[0m\u001b[0;34m(\u001b[0m\u001b[0mnew_board\u001b[0m\u001b[0;34m,\u001b[0m \u001b[0mdiagonal\u001b[0m\u001b[0;34m[\u001b[0m\u001b[0;36m0\u001b[0m\u001b[0;34m]\u001b[0m \u001b[0;34m+\u001b[0m \u001b[0;36m1\u001b[0m\u001b[0;34m)\u001b[0m\u001b[0;34m\u001b[0m\u001b[0;34m\u001b[0m\u001b[0m\n",
      "\u001b[0m\u001b[0;32m     37 \u001b[0;31m    \u001b[0;32mif\u001b[0m \u001b[0;32mnot\u001b[0m \u001b[0mjumped\u001b[0m\u001b[0;34m:\u001b[0m\u001b[0;34m\u001b[0m\u001b[0;34m\u001b[0m\u001b[0m\n",
      "\u001b[0m\u001b[0;32m     38 \u001b[0;31m        \u001b[0mnew_moves\u001b[0m\u001b[0;34m.\u001b[0m\u001b[0mappend\u001b[0m\u001b[0;34m(\u001b[0m\u001b[0mboard\u001b[0m\u001b[0;34m)\u001b[0m\u001b[0;34m\u001b[0m\u001b[0;34m\u001b[0m\u001b[0m\n",
      "\u001b[0m\n",
      "ipdb> h\n",
      "\n",
      "Documented commands (type help <topic>):\n",
      "========================================\n",
      "EOF    commands   enable    ll        pp       s                until \n",
      "a      condition  exit      longlist  psource  skip_hidden      up    \n",
      "alias  cont       h         n         q        skip_predicates  w     \n",
      "args   context    help      next      quit     source           whatis\n",
      "b      continue   ignore    p         r        step             where \n",
      "break  d          interact  pdef      restart  tbreak         \n",
      "bt     debug      j         pdoc      return   u              \n",
      "c      disable    jump      pfile     retval   unalias        \n",
      "cl     display    l         pinfo     run      undisplay      \n",
      "clear  down       list      pinfo2    rv       unt            \n",
      "\n",
      "Miscellaneous help topics:\n",
      "==========================\n",
      "exec  pdb\n",
      "\n",
      "ipdb> w\n",
      "\u001b[0;31m    [... skipping 21 hidden frame(s)]\u001b[0m\n",
      "\n",
      "  \u001b[0;32m/tmp/ipykernel_8524/555899610.py\u001b[0m(1)\u001b[0;36m<module>\u001b[0;34m()\u001b[0m\n",
      "\u001b[0;32m----> 1 \u001b[0;31m\u001b[0mtest_game\u001b[0m \u001b[0;34m=\u001b[0m \u001b[0mrandomised_game\u001b[0m\u001b[0;34m(\u001b[0m\u001b[0mdraw\u001b[0m\u001b[0;34m=\u001b[0m\u001b[0;32mTrue\u001b[0m\u001b[0;34m)\u001b[0m\u001b[0;34m\u001b[0m\u001b[0;34m\u001b[0m\u001b[0m\n",
      "\u001b[0m\n",
      "  \u001b[0;32m/tmp/ipykernel_8524/1998958610.py\u001b[0m(14)\u001b[0;36mrandomised_game\u001b[0;34m()\u001b[0m\n",
      "\u001b[1;32m     12 \u001b[0m        \u001b[0;32melse\u001b[0m\u001b[0;34m:\u001b[0m\u001b[0;34m\u001b[0m\u001b[0;34m\u001b[0m\u001b[0m\n",
      "\u001b[1;32m     13 \u001b[0m            \u001b[0mchecker_positions\u001b[0m \u001b[0;34m=\u001b[0m \u001b[0mlist_checker_positions\u001b[0m\u001b[0;34m(\u001b[0m\u001b[0mboard\u001b[0m\u001b[0;34m)\u001b[0m\u001b[0;34m\u001b[0m\u001b[0;34m\u001b[0m\u001b[0m\n",
      "\u001b[0;32m---> 14 \u001b[0;31m            \u001b[0mboard\u001b[0m \u001b[0;34m=\u001b[0m \u001b[0mrandom\u001b[0m\u001b[0;34m.\u001b[0m\u001b[0mchoice\u001b[0m\u001b[0;34m(\u001b[0m\u001b[0mget_COIN_moves\u001b[0m\u001b[0;34m(\u001b[0m\u001b[0mboard\u001b[0m\u001b[0;34m)\u001b[0m\u001b[0;34m)\u001b[0m\u001b[0;34m\u001b[0m\u001b[0;34m\u001b[0m\u001b[0m\n",
      "\u001b[0m\u001b[1;32m     15 \u001b[0m        \u001b[0mguerilla_turn\u001b[0m \u001b[0;34m=\u001b[0m \u001b[0;32mnot\u001b[0m \u001b[0mguerilla_turn\u001b[0m\u001b[0;34m\u001b[0m\u001b[0;34m\u001b[0m\u001b[0m\n",
      "\u001b[1;32m     16 \u001b[0m        \u001b[0;32mif\u001b[0m \u001b[0mdraw\u001b[0m\u001b[0;34m:\u001b[0m\u001b[0;34m\u001b[0m\u001b[0;34m\u001b[0m\u001b[0m\n",
      "\n",
      "  \u001b[0;32m/tmp/ipykernel_8524/739879128.py\u001b[0m(18)\u001b[0;36mget_COIN_moves\u001b[0;34m()\u001b[0m\n",
      "\u001b[1;32m     16 \u001b[0m                    \u001b[0;32mif\u001b[0m \u001b[0mboard\u001b[0m\u001b[0;34m[\u001b[0m\u001b[0mdiagonal\u001b[0m\u001b[0;34m[\u001b[0m\u001b[0;36m1\u001b[0m\u001b[0;34m]\u001b[0m\u001b[0;34m]\u001b[0m \u001b[0;34m==\u001b[0m \u001b[0;36m1\u001b[0m\u001b[0;34m:\u001b[0m\u001b[0;34m\u001b[0m\u001b[0;34m\u001b[0m\u001b[0m\n",
      "\u001b[1;32m     17 \u001b[0m                        \u001b[0mnew_board\u001b[0m\u001b[0;34m[\u001b[0m\u001b[0mdiagonal\u001b[0m\u001b[0;34m[\u001b[0m\u001b[0;36m1\u001b[0m\u001b[0;34m]\u001b[0m\u001b[0;34m]\u001b[0m \u001b[0;34m=\u001b[0m \u001b[0;36m0\u001b[0m\u001b[0;34m\u001b[0m\u001b[0;34m\u001b[0m\u001b[0m\n",
      "\u001b[0;32m---> 18 \u001b[0;31m                        \u001b[0mmove_list\u001b[0m \u001b[0;34m+=\u001b[0m \u001b[0mcapture_and_move\u001b[0m\u001b[0;34m(\u001b[0m\u001b[0mnew_board\u001b[0m\u001b[0;34m,\u001b[0m \u001b[0mdiagonal\u001b[0m\u001b[0;34m[\u001b[0m\u001b[0;36m0\u001b[0m\u001b[0;34m]\u001b[0m \u001b[0;34m+\u001b[0m \u001b[0;36m1\u001b[0m\u001b[0;34m)\u001b[0m\u001b[0;34m\u001b[0m\u001b[0;34m\u001b[0m\u001b[0m\n",
      "\u001b[0m\u001b[1;32m     19 \u001b[0m                    \u001b[0;32melse\u001b[0m\u001b[0;34m:\u001b[0m\u001b[0;34m\u001b[0m\u001b[0;34m\u001b[0m\u001b[0m\n",
      "\u001b[1;32m     20 \u001b[0m                        \u001b[0mmove_list\u001b[0m\u001b[0;34m.\u001b[0m\u001b[0mappend\u001b[0m\u001b[0;34m(\u001b[0m\u001b[0mnew_board\u001b[0m\u001b[0;34m)\u001b[0m\u001b[0;34m\u001b[0m\u001b[0;34m\u001b[0m\u001b[0m\n",
      "\n",
      "> \u001b[0;32m/tmp/ipykernel_8524/739879128.py\u001b[0m(36)\u001b[0;36mcapture_and_move\u001b[0;34m()\u001b[0m\n",
      "\u001b[0;32m     34 \u001b[0;31m            \u001b[0mnew_board\u001b[0m\u001b[0;34m[\u001b[0m\u001b[0mdiagonal\u001b[0m\u001b[0;34m[\u001b[0m\u001b[0;36m1\u001b[0m\u001b[0;34m]\u001b[0m\u001b[0;34m]\u001b[0m \u001b[0;34m=\u001b[0m \u001b[0;36m0\u001b[0m\u001b[0;34m\u001b[0m\u001b[0;34m\u001b[0m\u001b[0m\n",
      "\u001b[0m\u001b[0;32m     35 \u001b[0;31m            \u001b[0mbreakpoint\u001b[0m\u001b[0;34m(\u001b[0m\u001b[0;34m)\u001b[0m\u001b[0;34m\u001b[0m\u001b[0;34m\u001b[0m\u001b[0m\n",
      "\u001b[0m\u001b[0;32m---> 36 \u001b[0;31m            \u001b[0mnew_moves\u001b[0m \u001b[0;34m+=\u001b[0m \u001b[0mcapture_and_move\u001b[0m\u001b[0;34m(\u001b[0m\u001b[0mnew_board\u001b[0m\u001b[0;34m,\u001b[0m \u001b[0mdiagonal\u001b[0m\u001b[0;34m[\u001b[0m\u001b[0;36m0\u001b[0m\u001b[0;34m]\u001b[0m \u001b[0;34m+\u001b[0m \u001b[0;36m1\u001b[0m\u001b[0;34m)\u001b[0m\u001b[0;34m\u001b[0m\u001b[0;34m\u001b[0m\u001b[0m\n",
      "\u001b[0m\u001b[0;32m     37 \u001b[0;31m    \u001b[0;32mif\u001b[0m \u001b[0;32mnot\u001b[0m \u001b[0mjumped\u001b[0m\u001b[0;34m:\u001b[0m\u001b[0;34m\u001b[0m\u001b[0;34m\u001b[0m\u001b[0m\n",
      "\u001b[0m\u001b[0;32m     38 \u001b[0;31m        \u001b[0mnew_moves\u001b[0m\u001b[0;34m.\u001b[0m\u001b[0mappend\u001b[0m\u001b[0;34m(\u001b[0m\u001b[0mboard\u001b[0m\u001b[0;34m)\u001b[0m\u001b[0;34m\u001b[0m\u001b[0;34m\u001b[0m\u001b[0m\n",
      "\u001b[0m\n",
      "ipdb> a\n",
      "board = [64, 0, 0, 0, 0, 0, 0, 0, 0, 0, 1, 0, 0, 0, 1, 1, 0, 0, 1, 1, 0, 0, 0, 0, 0, 0, 1, 0, 0, 0, 0, 0, 0, 0, 0, 0, 0, 0, 0, 0, 0, 0, 0, 0, 0, 0, 0, 0, 0, 0, 0, 0, 0, 0, 0, 0, 0, 0, 0, 0, 0, 0, 0, 0, 0, 0, 0, 0, 0, 0, 1, 0, 0, 0, 0, 0, 0, 0, 0, 0, 0, 0]\n",
      "position = 26\n",
      "ipdb> draw_board(board)\n",
      "██▛▀▜█▛▀▜█▛▀▜█▛▀▜\n",
      "██▌ ▐█▌ ▐█▌ ▐█▌ ▐\n",
      "▛▀▚▄▞▀▚▄▞▀▚▄▞▀▚▄▟\n",
      "▌ ▐█▌ ▐█▌ ▐█▌ ▐██\n",
      "▙▄▞▀▚▄▞▀▚▄▞▀▚▄▞▀▜\n",
      "██▌ ▐█▌©▐█▌ ▐█▌ ▐\n",
      "▛▀▚▄▞▀▚▄▞▀▚▄▞▀▚▄▟\n",
      "▌ ▐█▌©▐█▌©▐█▌ ▐██\n",
      "▙▄▞▀▚▄▞▀▚▄▞▀▚▄▞▀▜\n",
      "██▌ ▐█▌©▐█▌©▐█▌ ▐\n",
      "▛▀▚▄▞▀▚▄▞▀▚▄▞▀▚▄▟\n",
      "▌ ▐█▌ ▐█▌ ▐█▌ ▐██\n",
      "▙▄▞▀▚▄◙▀▚▄▞▀▚▄▞▀▜\n",
      "██▌ ▐█▌©▐█▌ ▐█▌ ▐\n",
      "▛▀▚▄▞▀▚▄▞▀▚▄▞▀▚▄▟\n",
      "▌ ▐█▌ ▐█▌ ▐█▌ ▐██\n",
      "▙▄▟█▙▄▟█▙▄▟█▙▄▟██\n",
      "ipdb> ignore\n",
      "*** Breakpoint number expected\n",
      "ipdb> ignore 100\n",
      "*** Breakpoint number 100 out of range\n",
      "ipdb> run\n"
     ]
    },
    {
     "ename": "Restart",
     "evalue": "",
     "output_type": "error",
     "traceback": [
      "\u001b[0;31m---------------------------------------------------------------------------\u001b[0m",
      "\u001b[0;31mRestart\u001b[0m                                   Traceback (most recent call last)",
      "\u001b[0;32m/tmp/ipykernel_8524/555899610.py\u001b[0m in \u001b[0;36m<module>\u001b[0;34m\u001b[0m\n\u001b[0;32m----> 1\u001b[0;31m \u001b[0mtest_game\u001b[0m \u001b[0;34m=\u001b[0m \u001b[0mrandomised_game\u001b[0m\u001b[0;34m(\u001b[0m\u001b[0mdraw\u001b[0m\u001b[0;34m=\u001b[0m\u001b[0;32mTrue\u001b[0m\u001b[0;34m)\u001b[0m\u001b[0;34m\u001b[0m\u001b[0;34m\u001b[0m\u001b[0m\n\u001b[0m",
      "\u001b[0;32m/tmp/ipykernel_8524/1998958610.py\u001b[0m in \u001b[0;36mrandomised_game\u001b[0;34m(draw)\u001b[0m\n\u001b[1;32m     12\u001b[0m         \u001b[0;32melse\u001b[0m\u001b[0;34m:\u001b[0m\u001b[0;34m\u001b[0m\u001b[0;34m\u001b[0m\u001b[0m\n\u001b[1;32m     13\u001b[0m             \u001b[0mchecker_positions\u001b[0m \u001b[0;34m=\u001b[0m \u001b[0mlist_checker_positions\u001b[0m\u001b[0;34m(\u001b[0m\u001b[0mboard\u001b[0m\u001b[0;34m)\u001b[0m\u001b[0;34m\u001b[0m\u001b[0;34m\u001b[0m\u001b[0m\n\u001b[0;32m---> 14\u001b[0;31m             \u001b[0mboard\u001b[0m \u001b[0;34m=\u001b[0m \u001b[0mrandom\u001b[0m\u001b[0;34m.\u001b[0m\u001b[0mchoice\u001b[0m\u001b[0;34m(\u001b[0m\u001b[0mget_COIN_moves\u001b[0m\u001b[0;34m(\u001b[0m\u001b[0mboard\u001b[0m\u001b[0;34m)\u001b[0m\u001b[0;34m)\u001b[0m\u001b[0;34m\u001b[0m\u001b[0;34m\u001b[0m\u001b[0m\n\u001b[0m\u001b[1;32m     15\u001b[0m         \u001b[0mguerilla_turn\u001b[0m \u001b[0;34m=\u001b[0m \u001b[0;32mnot\u001b[0m \u001b[0mguerilla_turn\u001b[0m\u001b[0;34m\u001b[0m\u001b[0;34m\u001b[0m\u001b[0m\n\u001b[1;32m     16\u001b[0m         \u001b[0;32mif\u001b[0m \u001b[0mdraw\u001b[0m\u001b[0;34m:\u001b[0m\u001b[0;34m\u001b[0m\u001b[0;34m\u001b[0m\u001b[0m\n",
      "\u001b[0;32m/tmp/ipykernel_8524/739879128.py\u001b[0m in \u001b[0;36mget_COIN_moves\u001b[0;34m(board)\u001b[0m\n\u001b[1;32m     16\u001b[0m                     \u001b[0;32mif\u001b[0m \u001b[0mboard\u001b[0m\u001b[0;34m[\u001b[0m\u001b[0mdiagonal\u001b[0m\u001b[0;34m[\u001b[0m\u001b[0;36m1\u001b[0m\u001b[0;34m]\u001b[0m\u001b[0;34m]\u001b[0m \u001b[0;34m==\u001b[0m \u001b[0;36m1\u001b[0m\u001b[0;34m:\u001b[0m\u001b[0;34m\u001b[0m\u001b[0;34m\u001b[0m\u001b[0m\n\u001b[1;32m     17\u001b[0m                         \u001b[0mnew_board\u001b[0m\u001b[0;34m[\u001b[0m\u001b[0mdiagonal\u001b[0m\u001b[0;34m[\u001b[0m\u001b[0;36m1\u001b[0m\u001b[0;34m]\u001b[0m\u001b[0;34m]\u001b[0m \u001b[0;34m=\u001b[0m \u001b[0;36m0\u001b[0m\u001b[0;34m\u001b[0m\u001b[0;34m\u001b[0m\u001b[0m\n\u001b[0;32m---> 18\u001b[0;31m                         \u001b[0mmove_list\u001b[0m \u001b[0;34m+=\u001b[0m \u001b[0mcapture_and_move\u001b[0m\u001b[0;34m(\u001b[0m\u001b[0mnew_board\u001b[0m\u001b[0;34m,\u001b[0m \u001b[0mdiagonal\u001b[0m\u001b[0;34m[\u001b[0m\u001b[0;36m0\u001b[0m\u001b[0;34m]\u001b[0m \u001b[0;34m+\u001b[0m \u001b[0;36m1\u001b[0m\u001b[0;34m)\u001b[0m\u001b[0;34m\u001b[0m\u001b[0;34m\u001b[0m\u001b[0m\n\u001b[0m\u001b[1;32m     19\u001b[0m                     \u001b[0;32melse\u001b[0m\u001b[0;34m:\u001b[0m\u001b[0;34m\u001b[0m\u001b[0;34m\u001b[0m\u001b[0m\n\u001b[1;32m     20\u001b[0m                         \u001b[0mmove_list\u001b[0m\u001b[0;34m.\u001b[0m\u001b[0mappend\u001b[0m\u001b[0;34m(\u001b[0m\u001b[0mnew_board\u001b[0m\u001b[0;34m)\u001b[0m\u001b[0;34m\u001b[0m\u001b[0;34m\u001b[0m\u001b[0m\n",
      "\u001b[0;32m/tmp/ipykernel_8524/739879128.py\u001b[0m in \u001b[0;36mcapture_and_move\u001b[0;34m(board, position)\u001b[0m\n\u001b[1;32m     34\u001b[0m             \u001b[0mnew_board\u001b[0m\u001b[0;34m[\u001b[0m\u001b[0mdiagonal\u001b[0m\u001b[0;34m[\u001b[0m\u001b[0;36m1\u001b[0m\u001b[0;34m]\u001b[0m\u001b[0;34m]\u001b[0m \u001b[0;34m=\u001b[0m \u001b[0;36m0\u001b[0m\u001b[0;34m\u001b[0m\u001b[0;34m\u001b[0m\u001b[0m\n\u001b[1;32m     35\u001b[0m             \u001b[0mbreakpoint\u001b[0m\u001b[0;34m(\u001b[0m\u001b[0;34m)\u001b[0m\u001b[0;34m\u001b[0m\u001b[0;34m\u001b[0m\u001b[0m\n\u001b[0;32m---> 36\u001b[0;31m             \u001b[0mnew_moves\u001b[0m \u001b[0;34m+=\u001b[0m \u001b[0mcapture_and_move\u001b[0m\u001b[0;34m(\u001b[0m\u001b[0mnew_board\u001b[0m\u001b[0;34m,\u001b[0m \u001b[0mdiagonal\u001b[0m\u001b[0;34m[\u001b[0m\u001b[0;36m0\u001b[0m\u001b[0;34m]\u001b[0m \u001b[0;34m+\u001b[0m \u001b[0;36m1\u001b[0m\u001b[0;34m)\u001b[0m\u001b[0;34m\u001b[0m\u001b[0;34m\u001b[0m\u001b[0m\n\u001b[0m\u001b[1;32m     37\u001b[0m     \u001b[0;32mif\u001b[0m \u001b[0;32mnot\u001b[0m \u001b[0mjumped\u001b[0m\u001b[0;34m:\u001b[0m\u001b[0;34m\u001b[0m\u001b[0;34m\u001b[0m\u001b[0m\n\u001b[1;32m     38\u001b[0m         \u001b[0mnew_moves\u001b[0m\u001b[0;34m.\u001b[0m\u001b[0mappend\u001b[0m\u001b[0;34m(\u001b[0m\u001b[0mboard\u001b[0m\u001b[0;34m)\u001b[0m\u001b[0;34m\u001b[0m\u001b[0;34m\u001b[0m\u001b[0m\n",
      "\u001b[0;32m/tmp/ipykernel_8524/739879128.py\u001b[0m in \u001b[0;36mcapture_and_move\u001b[0;34m(board, position)\u001b[0m\n\u001b[1;32m     34\u001b[0m             \u001b[0mnew_board\u001b[0m\u001b[0;34m[\u001b[0m\u001b[0mdiagonal\u001b[0m\u001b[0;34m[\u001b[0m\u001b[0;36m1\u001b[0m\u001b[0;34m]\u001b[0m\u001b[0;34m]\u001b[0m \u001b[0;34m=\u001b[0m \u001b[0;36m0\u001b[0m\u001b[0;34m\u001b[0m\u001b[0;34m\u001b[0m\u001b[0m\n\u001b[1;32m     35\u001b[0m             \u001b[0mbreakpoint\u001b[0m\u001b[0;34m(\u001b[0m\u001b[0;34m)\u001b[0m\u001b[0;34m\u001b[0m\u001b[0;34m\u001b[0m\u001b[0m\n\u001b[0;32m---> 36\u001b[0;31m             \u001b[0mnew_moves\u001b[0m \u001b[0;34m+=\u001b[0m \u001b[0mcapture_and_move\u001b[0m\u001b[0;34m(\u001b[0m\u001b[0mnew_board\u001b[0m\u001b[0;34m,\u001b[0m \u001b[0mdiagonal\u001b[0m\u001b[0;34m[\u001b[0m\u001b[0;36m0\u001b[0m\u001b[0;34m]\u001b[0m \u001b[0;34m+\u001b[0m \u001b[0;36m1\u001b[0m\u001b[0;34m)\u001b[0m\u001b[0;34m\u001b[0m\u001b[0;34m\u001b[0m\u001b[0m\n\u001b[0m\u001b[1;32m     37\u001b[0m     \u001b[0;32mif\u001b[0m \u001b[0;32mnot\u001b[0m \u001b[0mjumped\u001b[0m\u001b[0;34m:\u001b[0m\u001b[0;34m\u001b[0m\u001b[0;34m\u001b[0m\u001b[0m\n\u001b[1;32m     38\u001b[0m         \u001b[0mnew_moves\u001b[0m\u001b[0;34m.\u001b[0m\u001b[0mappend\u001b[0m\u001b[0;34m(\u001b[0m\u001b[0mboard\u001b[0m\u001b[0;34m)\u001b[0m\u001b[0;34m\u001b[0m\u001b[0;34m\u001b[0m\u001b[0m\n",
      "\u001b[0;32m/usr/lib/python3.10/bdb.py\u001b[0m in \u001b[0;36mtrace_dispatch\u001b[0;34m(self, frame, event, arg)\u001b[0m\n\u001b[1;32m     88\u001b[0m             \u001b[0;32mreturn\u001b[0m \u001b[0;31m# None\u001b[0m\u001b[0;34m\u001b[0m\u001b[0;34m\u001b[0m\u001b[0m\n\u001b[1;32m     89\u001b[0m         \u001b[0;32mif\u001b[0m \u001b[0mevent\u001b[0m \u001b[0;34m==\u001b[0m \u001b[0;34m'line'\u001b[0m\u001b[0;34m:\u001b[0m\u001b[0;34m\u001b[0m\u001b[0;34m\u001b[0m\u001b[0m\n\u001b[0;32m---> 90\u001b[0;31m             \u001b[0;32mreturn\u001b[0m \u001b[0mself\u001b[0m\u001b[0;34m.\u001b[0m\u001b[0mdispatch_line\u001b[0m\u001b[0;34m(\u001b[0m\u001b[0mframe\u001b[0m\u001b[0;34m)\u001b[0m\u001b[0;34m\u001b[0m\u001b[0;34m\u001b[0m\u001b[0m\n\u001b[0m\u001b[1;32m     91\u001b[0m         \u001b[0;32mif\u001b[0m \u001b[0mevent\u001b[0m \u001b[0;34m==\u001b[0m \u001b[0;34m'call'\u001b[0m\u001b[0;34m:\u001b[0m\u001b[0;34m\u001b[0m\u001b[0;34m\u001b[0m\u001b[0m\n\u001b[1;32m     92\u001b[0m             \u001b[0;32mreturn\u001b[0m \u001b[0mself\u001b[0m\u001b[0;34m.\u001b[0m\u001b[0mdispatch_call\u001b[0m\u001b[0;34m(\u001b[0m\u001b[0mframe\u001b[0m\u001b[0;34m,\u001b[0m \u001b[0marg\u001b[0m\u001b[0;34m)\u001b[0m\u001b[0;34m\u001b[0m\u001b[0;34m\u001b[0m\u001b[0m\n",
      "\u001b[0;32m/usr/lib/python3.10/bdb.py\u001b[0m in \u001b[0;36mdispatch_line\u001b[0;34m(self, frame)\u001b[0m\n\u001b[1;32m    112\u001b[0m         \"\"\"\n\u001b[1;32m    113\u001b[0m         \u001b[0;32mif\u001b[0m \u001b[0mself\u001b[0m\u001b[0;34m.\u001b[0m\u001b[0mstop_here\u001b[0m\u001b[0;34m(\u001b[0m\u001b[0mframe\u001b[0m\u001b[0;34m)\u001b[0m \u001b[0;32mor\u001b[0m \u001b[0mself\u001b[0m\u001b[0;34m.\u001b[0m\u001b[0mbreak_here\u001b[0m\u001b[0;34m(\u001b[0m\u001b[0mframe\u001b[0m\u001b[0;34m)\u001b[0m\u001b[0;34m:\u001b[0m\u001b[0;34m\u001b[0m\u001b[0;34m\u001b[0m\u001b[0m\n\u001b[0;32m--> 114\u001b[0;31m             \u001b[0mself\u001b[0m\u001b[0;34m.\u001b[0m\u001b[0muser_line\u001b[0m\u001b[0;34m(\u001b[0m\u001b[0mframe\u001b[0m\u001b[0;34m)\u001b[0m\u001b[0;34m\u001b[0m\u001b[0;34m\u001b[0m\u001b[0m\n\u001b[0m\u001b[1;32m    115\u001b[0m             \u001b[0;32mif\u001b[0m \u001b[0mself\u001b[0m\u001b[0;34m.\u001b[0m\u001b[0mquitting\u001b[0m\u001b[0;34m:\u001b[0m \u001b[0;32mraise\u001b[0m \u001b[0mBdbQuit\u001b[0m\u001b[0;34m\u001b[0m\u001b[0;34m\u001b[0m\u001b[0m\n\u001b[1;32m    116\u001b[0m         \u001b[0;32mreturn\u001b[0m \u001b[0mself\u001b[0m\u001b[0;34m.\u001b[0m\u001b[0mtrace_dispatch\u001b[0m\u001b[0;34m\u001b[0m\u001b[0;34m\u001b[0m\u001b[0m\n",
      "\u001b[0;32m/usr/lib/python3.10/pdb.py\u001b[0m in \u001b[0;36muser_line\u001b[0;34m(self, frame)\u001b[0m\n\u001b[1;32m    251\u001b[0m             \u001b[0mself\u001b[0m\u001b[0;34m.\u001b[0m\u001b[0m_wait_for_mainpyfile\u001b[0m \u001b[0;34m=\u001b[0m \u001b[0;32mFalse\u001b[0m\u001b[0;34m\u001b[0m\u001b[0;34m\u001b[0m\u001b[0m\n\u001b[1;32m    252\u001b[0m         \u001b[0;32mif\u001b[0m \u001b[0mself\u001b[0m\u001b[0;34m.\u001b[0m\u001b[0mbp_commands\u001b[0m\u001b[0;34m(\u001b[0m\u001b[0mframe\u001b[0m\u001b[0;34m)\u001b[0m\u001b[0;34m:\u001b[0m\u001b[0;34m\u001b[0m\u001b[0;34m\u001b[0m\u001b[0m\n\u001b[0;32m--> 253\u001b[0;31m             \u001b[0mself\u001b[0m\u001b[0;34m.\u001b[0m\u001b[0minteraction\u001b[0m\u001b[0;34m(\u001b[0m\u001b[0mframe\u001b[0m\u001b[0;34m,\u001b[0m \u001b[0;32mNone\u001b[0m\u001b[0;34m)\u001b[0m\u001b[0;34m\u001b[0m\u001b[0;34m\u001b[0m\u001b[0m\n\u001b[0m\u001b[1;32m    254\u001b[0m \u001b[0;34m\u001b[0m\u001b[0m\n\u001b[1;32m    255\u001b[0m     \u001b[0;32mdef\u001b[0m \u001b[0mbp_commands\u001b[0m\u001b[0;34m(\u001b[0m\u001b[0mself\u001b[0m\u001b[0;34m,\u001b[0m \u001b[0mframe\u001b[0m\u001b[0;34m)\u001b[0m\u001b[0;34m:\u001b[0m\u001b[0;34m\u001b[0m\u001b[0;34m\u001b[0m\u001b[0m\n",
      "\u001b[0;32m/usr/lib/python3/dist-packages/IPython/core/debugger.py\u001b[0m in \u001b[0;36minteraction\u001b[0;34m(self, frame, traceback)\u001b[0m\n\u001b[1;32m    440\u001b[0m     \u001b[0;32mdef\u001b[0m \u001b[0minteraction\u001b[0m\u001b[0;34m(\u001b[0m\u001b[0mself\u001b[0m\u001b[0;34m,\u001b[0m \u001b[0mframe\u001b[0m\u001b[0;34m,\u001b[0m \u001b[0mtraceback\u001b[0m\u001b[0;34m)\u001b[0m\u001b[0;34m:\u001b[0m\u001b[0;34m\u001b[0m\u001b[0;34m\u001b[0m\u001b[0m\n\u001b[1;32m    441\u001b[0m         \u001b[0;32mtry\u001b[0m\u001b[0;34m:\u001b[0m\u001b[0;34m\u001b[0m\u001b[0;34m\u001b[0m\u001b[0m\n\u001b[0;32m--> 442\u001b[0;31m             \u001b[0mOldPdb\u001b[0m\u001b[0;34m.\u001b[0m\u001b[0minteraction\u001b[0m\u001b[0;34m(\u001b[0m\u001b[0mself\u001b[0m\u001b[0;34m,\u001b[0m \u001b[0mframe\u001b[0m\u001b[0;34m,\u001b[0m \u001b[0mtraceback\u001b[0m\u001b[0;34m)\u001b[0m\u001b[0;34m\u001b[0m\u001b[0;34m\u001b[0m\u001b[0m\n\u001b[0m\u001b[1;32m    443\u001b[0m         \u001b[0;32mexcept\u001b[0m \u001b[0mKeyboardInterrupt\u001b[0m\u001b[0;34m:\u001b[0m\u001b[0;34m\u001b[0m\u001b[0;34m\u001b[0m\u001b[0m\n\u001b[1;32m    444\u001b[0m             \u001b[0mself\u001b[0m\u001b[0;34m.\u001b[0m\u001b[0mstdout\u001b[0m\u001b[0;34m.\u001b[0m\u001b[0mwrite\u001b[0m\u001b[0;34m(\u001b[0m\u001b[0;34m\"\\n\"\u001b[0m \u001b[0;34m+\u001b[0m \u001b[0mself\u001b[0m\u001b[0;34m.\u001b[0m\u001b[0mshell\u001b[0m\u001b[0;34m.\u001b[0m\u001b[0mget_exception_only\u001b[0m\u001b[0;34m(\u001b[0m\u001b[0;34m)\u001b[0m\u001b[0;34m)\u001b[0m\u001b[0;34m\u001b[0m\u001b[0;34m\u001b[0m\u001b[0m\n",
      "\u001b[0;32m/usr/lib/python3.10/pdb.py\u001b[0m in \u001b[0;36minteraction\u001b[0;34m(self, frame, traceback)\u001b[0m\n\u001b[1;32m    346\u001b[0m             \u001b[0;32mreturn\u001b[0m\u001b[0;34m\u001b[0m\u001b[0;34m\u001b[0m\u001b[0m\n\u001b[1;32m    347\u001b[0m         \u001b[0mself\u001b[0m\u001b[0;34m.\u001b[0m\u001b[0mprint_stack_entry\u001b[0m\u001b[0;34m(\u001b[0m\u001b[0mself\u001b[0m\u001b[0;34m.\u001b[0m\u001b[0mstack\u001b[0m\u001b[0;34m[\u001b[0m\u001b[0mself\u001b[0m\u001b[0;34m.\u001b[0m\u001b[0mcurindex\u001b[0m\u001b[0;34m]\u001b[0m\u001b[0;34m)\u001b[0m\u001b[0;34m\u001b[0m\u001b[0;34m\u001b[0m\u001b[0m\n\u001b[0;32m--> 348\u001b[0;31m         \u001b[0mself\u001b[0m\u001b[0;34m.\u001b[0m\u001b[0m_cmdloop\u001b[0m\u001b[0;34m(\u001b[0m\u001b[0;34m)\u001b[0m\u001b[0;34m\u001b[0m\u001b[0;34m\u001b[0m\u001b[0m\n\u001b[0m\u001b[1;32m    349\u001b[0m         \u001b[0mself\u001b[0m\u001b[0;34m.\u001b[0m\u001b[0mforget\u001b[0m\u001b[0;34m(\u001b[0m\u001b[0;34m)\u001b[0m\u001b[0;34m\u001b[0m\u001b[0;34m\u001b[0m\u001b[0m\n\u001b[1;32m    350\u001b[0m \u001b[0;34m\u001b[0m\u001b[0m\n",
      "\u001b[0;32m/usr/lib/python3/dist-packages/IPython/core/debugger.py\u001b[0m in \u001b[0;36m_cmdloop\u001b[0;34m(self)\u001b[0m\n\u001b[1;32m   1083\u001b[0m                 \u001b[0;31m# the current command, so allow them during interactive input\u001b[0m\u001b[0;34m\u001b[0m\u001b[0;34m\u001b[0m\u001b[0m\n\u001b[1;32m   1084\u001b[0m                 \u001b[0mself\u001b[0m\u001b[0;34m.\u001b[0m\u001b[0mallow_kbdint\u001b[0m \u001b[0;34m=\u001b[0m \u001b[0;32mTrue\u001b[0m\u001b[0;34m\u001b[0m\u001b[0;34m\u001b[0m\u001b[0m\n\u001b[0;32m-> 1085\u001b[0;31m                 \u001b[0mself\u001b[0m\u001b[0;34m.\u001b[0m\u001b[0mcmdloop\u001b[0m\u001b[0;34m(\u001b[0m\u001b[0;34m)\u001b[0m\u001b[0;34m\u001b[0m\u001b[0;34m\u001b[0m\u001b[0m\n\u001b[0m\u001b[1;32m   1086\u001b[0m                 \u001b[0mself\u001b[0m\u001b[0;34m.\u001b[0m\u001b[0mallow_kbdint\u001b[0m \u001b[0;34m=\u001b[0m \u001b[0;32mFalse\u001b[0m\u001b[0;34m\u001b[0m\u001b[0;34m\u001b[0m\u001b[0m\n\u001b[1;32m   1087\u001b[0m                 \u001b[0;32mbreak\u001b[0m\u001b[0;34m\u001b[0m\u001b[0;34m\u001b[0m\u001b[0m\n",
      "\u001b[0;32m/usr/lib/python3/dist-packages/IPython/core/debugger.py\u001b[0m in \u001b[0;36mcmdloop\u001b[0;34m(self, intro)\u001b[0m\n\u001b[1;32m   1069\u001b[0m         \u001b[0;34m\"\"\"Wrap cmdloop() such that KeyboardInterrupt stops the debugger.\"\"\"\u001b[0m\u001b[0;34m\u001b[0m\u001b[0;34m\u001b[0m\u001b[0m\n\u001b[1;32m   1070\u001b[0m         \u001b[0;32mtry\u001b[0m\u001b[0;34m:\u001b[0m\u001b[0;34m\u001b[0m\u001b[0;34m\u001b[0m\u001b[0m\n\u001b[0;32m-> 1071\u001b[0;31m             \u001b[0;32mreturn\u001b[0m \u001b[0mOldPdb\u001b[0m\u001b[0;34m.\u001b[0m\u001b[0mcmdloop\u001b[0m\u001b[0;34m(\u001b[0m\u001b[0mself\u001b[0m\u001b[0;34m,\u001b[0m \u001b[0mintro\u001b[0m\u001b[0;34m=\u001b[0m\u001b[0mintro\u001b[0m\u001b[0;34m)\u001b[0m\u001b[0;34m\u001b[0m\u001b[0;34m\u001b[0m\u001b[0m\n\u001b[0m\u001b[1;32m   1072\u001b[0m         \u001b[0;32mexcept\u001b[0m \u001b[0mKeyboardInterrupt\u001b[0m\u001b[0;34m:\u001b[0m\u001b[0;34m\u001b[0m\u001b[0;34m\u001b[0m\u001b[0m\n\u001b[1;32m   1073\u001b[0m             \u001b[0mself\u001b[0m\u001b[0;34m.\u001b[0m\u001b[0mstop_here\u001b[0m \u001b[0;34m=\u001b[0m \u001b[0;32mlambda\u001b[0m \u001b[0mframe\u001b[0m\u001b[0;34m:\u001b[0m \u001b[0;32mFalse\u001b[0m\u001b[0;34m\u001b[0m\u001b[0;34m\u001b[0m\u001b[0m\n",
      "\u001b[0;32m/usr/lib/python3.10/cmd.py\u001b[0m in \u001b[0;36mcmdloop\u001b[0;34m(self, intro)\u001b[0m\n\u001b[1;32m    136\u001b[0m                             \u001b[0mline\u001b[0m \u001b[0;34m=\u001b[0m \u001b[0mline\u001b[0m\u001b[0;34m.\u001b[0m\u001b[0mrstrip\u001b[0m\u001b[0;34m(\u001b[0m\u001b[0;34m'\\r\\n'\u001b[0m\u001b[0;34m)\u001b[0m\u001b[0;34m\u001b[0m\u001b[0;34m\u001b[0m\u001b[0m\n\u001b[1;32m    137\u001b[0m                 \u001b[0mline\u001b[0m \u001b[0;34m=\u001b[0m \u001b[0mself\u001b[0m\u001b[0;34m.\u001b[0m\u001b[0mprecmd\u001b[0m\u001b[0;34m(\u001b[0m\u001b[0mline\u001b[0m\u001b[0;34m)\u001b[0m\u001b[0;34m\u001b[0m\u001b[0;34m\u001b[0m\u001b[0m\n\u001b[0;32m--> 138\u001b[0;31m                 \u001b[0mstop\u001b[0m \u001b[0;34m=\u001b[0m \u001b[0mself\u001b[0m\u001b[0;34m.\u001b[0m\u001b[0monecmd\u001b[0m\u001b[0;34m(\u001b[0m\u001b[0mline\u001b[0m\u001b[0;34m)\u001b[0m\u001b[0;34m\u001b[0m\u001b[0;34m\u001b[0m\u001b[0m\n\u001b[0m\u001b[1;32m    139\u001b[0m                 \u001b[0mstop\u001b[0m \u001b[0;34m=\u001b[0m \u001b[0mself\u001b[0m\u001b[0;34m.\u001b[0m\u001b[0mpostcmd\u001b[0m\u001b[0;34m(\u001b[0m\u001b[0mstop\u001b[0m\u001b[0;34m,\u001b[0m \u001b[0mline\u001b[0m\u001b[0;34m)\u001b[0m\u001b[0;34m\u001b[0m\u001b[0;34m\u001b[0m\u001b[0m\n\u001b[1;32m    140\u001b[0m             \u001b[0mself\u001b[0m\u001b[0;34m.\u001b[0m\u001b[0mpostloop\u001b[0m\u001b[0;34m(\u001b[0m\u001b[0;34m)\u001b[0m\u001b[0;34m\u001b[0m\u001b[0;34m\u001b[0m\u001b[0m\n",
      "\u001b[0;32m/usr/lib/python3.10/pdb.py\u001b[0m in \u001b[0;36monecmd\u001b[0;34m(self, line)\u001b[0m\n\u001b[1;32m    411\u001b[0m         \"\"\"\n\u001b[1;32m    412\u001b[0m         \u001b[0;32mif\u001b[0m \u001b[0;32mnot\u001b[0m \u001b[0mself\u001b[0m\u001b[0;34m.\u001b[0m\u001b[0mcommands_defining\u001b[0m\u001b[0;34m:\u001b[0m\u001b[0;34m\u001b[0m\u001b[0;34m\u001b[0m\u001b[0m\n\u001b[0;32m--> 413\u001b[0;31m             \u001b[0;32mreturn\u001b[0m \u001b[0mcmd\u001b[0m\u001b[0;34m.\u001b[0m\u001b[0mCmd\u001b[0m\u001b[0;34m.\u001b[0m\u001b[0monecmd\u001b[0m\u001b[0;34m(\u001b[0m\u001b[0mself\u001b[0m\u001b[0;34m,\u001b[0m \u001b[0mline\u001b[0m\u001b[0;34m)\u001b[0m\u001b[0;34m\u001b[0m\u001b[0;34m\u001b[0m\u001b[0m\n\u001b[0m\u001b[1;32m    414\u001b[0m         \u001b[0;32melse\u001b[0m\u001b[0;34m:\u001b[0m\u001b[0;34m\u001b[0m\u001b[0;34m\u001b[0m\u001b[0m\n\u001b[1;32m    415\u001b[0m             \u001b[0;32mreturn\u001b[0m \u001b[0mself\u001b[0m\u001b[0;34m.\u001b[0m\u001b[0mhandle_command_def\u001b[0m\u001b[0;34m(\u001b[0m\u001b[0mline\u001b[0m\u001b[0;34m)\u001b[0m\u001b[0;34m\u001b[0m\u001b[0;34m\u001b[0m\u001b[0m\n",
      "\u001b[0;32m/usr/lib/python3.10/cmd.py\u001b[0m in \u001b[0;36monecmd\u001b[0;34m(self, line)\u001b[0m\n\u001b[1;32m    215\u001b[0m             \u001b[0;32mexcept\u001b[0m \u001b[0mAttributeError\u001b[0m\u001b[0;34m:\u001b[0m\u001b[0;34m\u001b[0m\u001b[0;34m\u001b[0m\u001b[0m\n\u001b[1;32m    216\u001b[0m                 \u001b[0;32mreturn\u001b[0m \u001b[0mself\u001b[0m\u001b[0;34m.\u001b[0m\u001b[0mdefault\u001b[0m\u001b[0;34m(\u001b[0m\u001b[0mline\u001b[0m\u001b[0;34m)\u001b[0m\u001b[0;34m\u001b[0m\u001b[0;34m\u001b[0m\u001b[0m\n\u001b[0;32m--> 217\u001b[0;31m             \u001b[0;32mreturn\u001b[0m \u001b[0mfunc\u001b[0m\u001b[0;34m(\u001b[0m\u001b[0marg\u001b[0m\u001b[0;34m)\u001b[0m\u001b[0;34m\u001b[0m\u001b[0;34m\u001b[0m\u001b[0m\n\u001b[0m\u001b[1;32m    218\u001b[0m \u001b[0;34m\u001b[0m\u001b[0m\n\u001b[1;32m    219\u001b[0m     \u001b[0;32mdef\u001b[0m \u001b[0memptyline\u001b[0m\u001b[0;34m(\u001b[0m\u001b[0mself\u001b[0m\u001b[0;34m)\u001b[0m\u001b[0;34m:\u001b[0m\u001b[0;34m\u001b[0m\u001b[0;34m\u001b[0m\u001b[0m\n",
      "\u001b[0;32m/usr/lib/python3.10/pdb.py\u001b[0m in \u001b[0;36mdo_run\u001b[0;34m(self, arg)\u001b[0m\n\u001b[1;32m   1025\u001b[0m             \u001b[0msys\u001b[0m\u001b[0;34m.\u001b[0m\u001b[0margv\u001b[0m\u001b[0;34m[\u001b[0m\u001b[0;34m:\u001b[0m\u001b[0;36m0\u001b[0m\u001b[0;34m]\u001b[0m \u001b[0;34m=\u001b[0m \u001b[0margv0\u001b[0m\u001b[0;34m\u001b[0m\u001b[0;34m\u001b[0m\u001b[0m\n\u001b[1;32m   1026\u001b[0m         \u001b[0;31m# this is caught in the main debugger loop\u001b[0m\u001b[0;34m\u001b[0m\u001b[0;34m\u001b[0m\u001b[0m\n\u001b[0;32m-> 1027\u001b[0;31m         \u001b[0;32mraise\u001b[0m \u001b[0mRestart\u001b[0m\u001b[0;34m\u001b[0m\u001b[0;34m\u001b[0m\u001b[0m\n\u001b[0m\u001b[1;32m   1028\u001b[0m \u001b[0;34m\u001b[0m\u001b[0m\n\u001b[1;32m   1029\u001b[0m     \u001b[0mdo_restart\u001b[0m \u001b[0;34m=\u001b[0m \u001b[0mdo_run\u001b[0m\u001b[0;34m\u001b[0m\u001b[0;34m\u001b[0m\u001b[0m\n",
      "\u001b[0;31mRestart\u001b[0m: "
     ]
    }
   ],
   "source": [
    "test_game = randomised_game(draw=True)"
   ]
  },
  {
   "cell_type": "code",
   "execution_count": null,
   "id": "baaa88de",
   "metadata": {},
   "outputs": [],
   "source": []
  }
 ],
 "metadata": {
  "kernelspec": {
   "display_name": "Python 3 (ipykernel)",
   "language": "python",
   "name": "python3"
  },
  "language_info": {
   "codemirror_mode": {
    "name": "ipython",
    "version": 3
   },
   "file_extension": ".py",
   "mimetype": "text/x-python",
   "name": "python",
   "nbconvert_exporter": "python",
   "pygments_lexer": "ipython3",
   "version": "3.10.12"
  }
 },
 "nbformat": 4,
 "nbformat_minor": 5
}
