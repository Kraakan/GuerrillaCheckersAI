{
 "cells": [
  {
   "cell_type": "code",
   "execution_count": 1,
   "id": "c26c5c1c",
   "metadata": {},
   "outputs": [],
   "source": [
    "import numpy as np\n",
    "\n",
    "#starting_board = []"
   ]
  },
  {
   "cell_type": "markdown",
   "id": "d3a50a37",
   "metadata": {},
   "source": [
    "Första approach: två 8x8 plan på varandra\n",
    " + Läsbar, men\n",
    "     - Man måste ändå hålla reda på att ena planet är förskjutet eftersom det representerar kryssen mellan rutorna\n",
    "     - Detta plan har också en onödig rad och kolumn\n",
    " - Väldigt o-optimerad"
   ]
  },
  {
   "cell_type": "code",
   "execution_count": 2,
   "id": "6882ca9c",
   "metadata": {},
   "outputs": [
    {
     "name": "stdout",
     "output_type": "stream",
     "text": [
      "[[[0. 0. 0. 0. 0. 0. 0. 0.]\n",
      "  [0. 0. 0. 0. 0. 0. 0. 0.]\n",
      "  [0. 0. 0. 0. 0. 0. 0. 0.]\n",
      "  [0. 0. 0. 0. 0. 0. 0. 0.]\n",
      "  [0. 0. 0. 0. 0. 0. 0. 0.]\n",
      "  [0. 0. 0. 0. 0. 0. 0. 0.]\n",
      "  [0. 0. 0. 0. 0. 0. 0. 0.]\n",
      "  [0. 0. 0. 0. 0. 0. 0. 0.]]\n",
      "\n",
      " [[0. 0. 0. 0. 0. 0. 0. 0.]\n",
      "  [0. 0. 0. 0. 0. 0. 0. 0.]\n",
      "  [0. 0. 0. 0. 0. 0. 0. 0.]\n",
      "  [0. 0. 0. 0. 0. 0. 0. 0.]\n",
      "  [0. 0. 0. 0. 0. 0. 0. 0.]\n",
      "  [0. 0. 0. 0. 0. 0. 0. 0.]\n",
      "  [0. 0. 0. 0. 0. 0. 0. 0.]\n",
      "  [0. 0. 0. 0. 0. 0. 0. 0.]]]\n"
     ]
    }
   ],
   "source": [
    "test = np.zeros((2,8,8))\n",
    "print(test)"
   ]
  },
  {
   "cell_type": "code",
   "execution_count": 3,
   "id": "e863c589",
   "metadata": {},
   "outputs": [
    {
     "data": {
      "text/plain": [
       "array([[0., 0., 0., 0., 0., 0., 0., 0.],\n",
       "       [0., 0., 0., 0., 0., 0., 0., 0.],\n",
       "       [0., 0., 0., 0., 0., 0., 0., 0.],\n",
       "       [0., 0., 0., 0., 0., 0., 0., 0.],\n",
       "       [0., 0., 0., 0., 0., 0., 0., 0.],\n",
       "       [0., 0., 0., 0., 0., 0., 0., 0.],\n",
       "       [0., 0., 0., 0., 0., 0., 0., 0.],\n",
       "       [0., 0., 0., 0., 0., 0., 0., 0.]])"
      ]
     },
     "execution_count": 3,
     "metadata": {},
     "output_type": "execute_result"
    }
   ],
   "source": [
    "test[0]"
   ]
  },
  {
   "cell_type": "markdown",
   "id": "3b293ec0",
   "metadata": {},
   "source": [
    "För att komma fram till en mera optimal representation tror jag att jag först borde börja med att representare bägge \"sidor\" av planen skilt.\n",
    "\n",
    "Från checkers implementationen som jag har lånat vet jag redan att den planen kan komprimeras till 4x8 eftersom pjäserna endast rör sig diagonalt\n",
    "\n"
   ]
  },
  {
   "cell_type": "code",
   "execution_count": 4,
   "id": "5a22397d",
   "metadata": {},
   "outputs": [
    {
     "data": {
      "text/plain": [
       "array([[0., 0., 0., 0., 0., 0., 0.],\n",
       "       [0., 0., 0., 0., 0., 0., 0.],\n",
       "       [0., 0., 0., 0., 0., 0., 0.],\n",
       "       [0., 0., 0., 0., 0., 0., 0.],\n",
       "       [0., 0., 0., 0., 0., 0., 0.],\n",
       "       [0., 0., 0., 0., 0., 0., 0.],\n",
       "       [0., 0., 0., 0., 0., 0., 0.]])"
      ]
     },
     "execution_count": 4,
     "metadata": {},
     "output_type": "execute_result"
    }
   ],
   "source": [
    "np.zeros((7,7))"
   ]
  },
  {
   "cell_type": "code",
   "execution_count": 5,
   "id": "fa438bb7",
   "metadata": {},
   "outputs": [],
   "source": [
    "# Lånat från checkers:\n",
    "def expand(board):\n",
    "\tb = np.zeros((8, 8), dtype='b')\n",
    "\tfor i in range(0, 8):\n",
    "\t\tif (i%2 == 0):\n",
    "\t\t\tb[i] = np.array([0, board[i*4], 0, board[i*4 + 1], 0, board[i*4 + 2], 0, board[i*4 + 3]])\n",
    "\t\telse:\n",
    "\t\t\tb[i] = np.array([board[i*4], 0, board[i*4 + 1], 0, board[i*4 + 2], 0, board[i*4 + 3], 0])\n",
    "\treturn b\n",
    "\n",
    "def compress(board):\n",
    "\tb = np.zeros((1,32), dtype='b')\n",
    "\tfor i in range(0, 8):\n",
    "\t\tif (i%2 == 0):\n",
    "\t\t\tb[0, i*4 : i*4+4] = np.array([board[i, 1], board[i, 3], board[i, 5], board[i, 7]])\n",
    "\t\telse:\n",
    "\t\t\tb[0, i*4 : i*4+4] = np.array([board[i, 0], board[i, 2], board[i, 4], board[i, 6]])\n",
    "\treturn b"
   ]
  },
  {
   "cell_type": "code",
   "execution_count": 6,
   "id": "c1b5da27",
   "metadata": {},
   "outputs": [],
   "source": [
    "import numpy as np\n",
    "b = np.zeros((1, 8), dtype='b')\n",
    "b[0,0] = 4"
   ]
  },
  {
   "cell_type": "code",
   "execution_count": 7,
   "id": "b4c9026c",
   "metadata": {},
   "outputs": [
    {
     "data": {
      "text/plain": [
       "4"
      ]
     },
     "execution_count": 7,
     "metadata": {},
     "output_type": "execute_result"
    }
   ],
   "source": [
    "b[0,0]"
   ]
  },
  {
   "cell_type": "markdown",
   "id": "cc520e61",
   "metadata": {},
   "source": [
    "## Kod för COIN spelarens tillåtna drag\n",
    "Först vill jag ha en metod för att räkna ut vilka platser som blir diagonala \"grannar\" på det komprimerade brädet. Jag tror att den bästa approachen kommer att vara att köra denna metod en gång och spara resultatet i en list."
   ]
  },
  {
   "cell_type": "code",
   "execution_count": 8,
   "id": "10c19ef7",
   "metadata": {},
   "outputs": [],
   "source": [
    "manual_diagonals = [[4,5],[5,6],[6,7],[7],[0,8],[0,1,8,9],[1,2,9,10],[2,3,10,11],[12,13,4,5],[13,14,5,6]]"
   ]
  },
  {
   "cell_type": "code",
   "execution_count": 9,
   "id": "7d0e90be",
   "metadata": {},
   "outputs": [],
   "source": [
    "def diagonal_steps(position):\n",
    "    steps = []\n",
    "    # Beacuse the checker board is compressed, diagonals work differently on add and even rows\n",
    "    if (position // 4) % 2 == 0:\n",
    "        if not ((position + 5) % 8 == 0):\n",
    "            steps.append([position - 5])\n",
    "            steps.append([position + 5])\n",
    "        steps.append([position - 4])\n",
    "        steps.append([position + 4])\n",
    "    else:\n",
    "        if not ((position + 4) % 8 == 0):\n",
    "            steps.append([position - 5])\n",
    "            steps.append([position + 3])\n",
    "        steps.append([position - 4])\n",
    "        steps.append([position + 4])\n",
    "    i = 0\n",
    "    while i < len(steps):\n",
    "        if steps[i][0] < 0 or steps[i][0] > 31:\n",
    "            steps.pop(i)\n",
    "        else: i = i + 1\n",
    "    steps.sort()\n",
    "    return steps    "
   ]
  },
  {
   "cell_type": "code",
   "execution_count": 10,
   "id": "568ff411",
   "metadata": {},
   "outputs": [],
   "source": [
    "auto_steps = []\n",
    "for n in range(32):\n",
    "    auto_steps.append(diagonal_steps(n))"
   ]
  },
  {
   "cell_type": "code",
   "execution_count": 11,
   "id": "f0456fee",
   "metadata": {},
   "outputs": [
    {
     "data": {
      "text/plain": [
       "[[[4], [5]],\n",
       " [[5], [6]],\n",
       " [[6], [7]],\n",
       " [[7]],\n",
       " [[0], [8]],\n",
       " [[0], [1], [8], [9]],\n",
       " [[1], [2], [9], [10]],\n",
       " [[2], [3], [10], [11]],\n",
       " [[3], [4], [12], [13]],\n",
       " [[4], [5], [13], [14]],\n",
       " [[5], [6], [14], [15]],\n",
       " [[7], [15]],\n",
       " [[8], [16]],\n",
       " [[8], [9], [16], [17]],\n",
       " [[9], [10], [17], [18]],\n",
       " [[10], [11], [18], [19]],\n",
       " [[11], [12], [20], [21]],\n",
       " [[12], [13], [21], [22]],\n",
       " [[13], [14], [22], [23]],\n",
       " [[15], [23]],\n",
       " [[16], [24]],\n",
       " [[16], [17], [24], [25]],\n",
       " [[17], [18], [25], [26]],\n",
       " [[18], [19], [26], [27]],\n",
       " [[19], [20], [28], [29]],\n",
       " [[20], [21], [29], [30]],\n",
       " [[21], [22], [30], [31]],\n",
       " [[23], [31]],\n",
       " [[24]],\n",
       " [[24], [25]],\n",
       " [[25], [26]],\n",
       " [[26], [27]]]"
      ]
     },
     "execution_count": 11,
     "metadata": {},
     "output_type": "execute_result"
    }
   ],
   "source": [
    "auto_steps"
   ]
  },
  {
   "cell_type": "code",
   "execution_count": 12,
   "id": "5ddca4fa",
   "metadata": {},
   "outputs": [],
   "source": [
    "def diagonal_crosses(diagonals):\n",
    "    upwards = False\n",
    "    i = len(diagonals)\n",
    "    while i < 49 + len(diagonals):\n",
    "        for position in diagonals:\n",
    "            for move in position:\n",
    "                move.append(i)\n",
    "                i = i + 1\n",
    "                if i % 7 == 0:\n",
    "                    upwards = not upwards\n",
    "                    if upwards: i = i - 7\n",
    "    return diagonals"
   ]
  },
  {
   "cell_type": "code",
   "execution_count": 13,
   "id": "77a00559",
   "metadata": {},
   "outputs": [
    {
     "data": {
      "text/plain": [
       "[[[4, 32], [5, 33]],\n",
       " [[5, 34], [6, 28]],\n",
       " [[6, 29], [7, 30]],\n",
       " [[7, 31]],\n",
       " [[0, 32], [8, 33]],\n",
       " [[0, 34], [1, 35], [8, 36], [9, 37]],\n",
       " [[1, 38], [2, 39], [9, 40], [10, 41]],\n",
       " [[2, 35], [3, 36], [10, 37], [11, 38]],\n",
       " [[3, 39], [4, 40], [12, 41], [13, 42]],\n",
       " [[4, 43], [5, 44], [13, 45], [14, 46]],\n",
       " [[5, 47], [6, 48], [14, 42], [15, 43]],\n",
       " [[7, 44], [15, 45]],\n",
       " [[8, 46], [16, 47]],\n",
       " [[8, 48], [9, 49], [16, 50], [17, 51]],\n",
       " [[9, 52], [10, 53], [17, 54], [18, 55]],\n",
       " [[10, 49], [11, 50], [18, 51], [19, 52]],\n",
       " [[11, 53], [12, 54], [20, 55], [21, 56]],\n",
       " [[12, 57], [13, 58], [21, 59], [22, 60]],\n",
       " [[13, 61], [14, 62], [22, 56], [23, 57]],\n",
       " [[15, 58], [23, 59]],\n",
       " [[16, 60], [24, 61]],\n",
       " [[16, 62], [17, 63], [24, 64], [25, 65]],\n",
       " [[17, 66], [18, 67], [25, 68], [26, 69]],\n",
       " [[18, 63], [19, 64], [26, 65], [27, 66]],\n",
       " [[19, 67], [20, 68], [28, 69], [29, 70]],\n",
       " [[20, 71], [21, 72], [29, 73], [30, 74]],\n",
       " [[21, 75], [22, 76], [30, 70], [31, 71]],\n",
       " [[23, 72], [31, 73]],\n",
       " [[24, 74]],\n",
       " [[24, 75], [25, 76]],\n",
       " [[25, 77], [26, 78]],\n",
       " [[26, 79], [27, 80]]]"
      ]
     },
     "execution_count": 13,
     "metadata": {},
     "output_type": "execute_result"
    }
   ],
   "source": [
    "diagonal_crosses(auto_steps)"
   ]
  },
  {
   "cell_type": "code",
   "execution_count": 14,
   "id": "ae52e820",
   "metadata": {},
   "outputs": [],
   "source": [
    "manual_neighbors = [[1,7],[0,2,8]]"
   ]
  },
  {
   "cell_type": "code",
   "execution_count": 15,
   "id": "ebabca9e",
   "metadata": {},
   "outputs": [],
   "source": [
    "def get_neighbors(point, offset):\n",
    "    # offset is added to neigbors because the go board will be appended to the checkers board\n",
    "    neighbors = []\n",
    "    if not (point % 7 == 0):\n",
    "        neighbors.append(point - 1 + offset)\n",
    "    if not ((point + 1) % 7 == 0):\n",
    "        neighbors.append(point + 1 + offset)\n",
    "    neighbors.append(point - 7 + offset)\n",
    "    neighbors.append(point + 7 + offset)\n",
    "    i = 0\n",
    "    while i < len(neighbors):\n",
    "        if neighbors[i] - offset < 0 or neighbors[i] - offset > 48:\n",
    "            neighbors.pop(i)\n",
    "        else: i = i + 1\n",
    "    return neighbors   \n",
    "    "
   ]
  },
  {
   "cell_type": "code",
   "execution_count": 16,
   "id": "f81b4951",
   "metadata": {},
   "outputs": [],
   "source": [
    "auto_neighbors = []\n",
    "for n in range(49):\n",
    "    auto_neighbors.append(get_neighbors(n, 0))"
   ]
  },
  {
   "cell_type": "code",
   "execution_count": 17,
   "id": "f0169db2",
   "metadata": {},
   "outputs": [
    {
     "data": {
      "text/plain": [
       "[[1, 7],\n",
       " [0, 2, 8],\n",
       " [1, 3, 9],\n",
       " [2, 4, 10],\n",
       " [3, 5, 11],\n",
       " [4, 6, 12],\n",
       " [5, 13],\n",
       " [8, 0, 14],\n",
       " [7, 9, 1, 15],\n",
       " [8, 10, 2, 16],\n",
       " [9, 11, 3, 17],\n",
       " [10, 12, 4, 18],\n",
       " [11, 13, 5, 19],\n",
       " [12, 6, 20],\n",
       " [15, 7, 21],\n",
       " [14, 16, 8, 22],\n",
       " [15, 17, 9, 23],\n",
       " [16, 18, 10, 24],\n",
       " [17, 19, 11, 25],\n",
       " [18, 20, 12, 26],\n",
       " [19, 13, 27],\n",
       " [22, 14, 28],\n",
       " [21, 23, 15, 29],\n",
       " [22, 24, 16, 30],\n",
       " [23, 25, 17, 31],\n",
       " [24, 26, 18, 32],\n",
       " [25, 27, 19, 33],\n",
       " [26, 20, 34],\n",
       " [29, 21, 35],\n",
       " [28, 30, 22, 36],\n",
       " [29, 31, 23, 37],\n",
       " [30, 32, 24, 38],\n",
       " [31, 33, 25, 39],\n",
       " [32, 34, 26, 40],\n",
       " [33, 27, 41],\n",
       " [36, 28, 42],\n",
       " [35, 37, 29, 43],\n",
       " [36, 38, 30, 44],\n",
       " [37, 39, 31, 45],\n",
       " [38, 40, 32, 46],\n",
       " [39, 41, 33, 47],\n",
       " [40, 34, 48],\n",
       " [43, 35],\n",
       " [42, 44, 36],\n",
       " [43, 45, 37],\n",
       " [44, 46, 38],\n",
       " [45, 47, 39],\n",
       " [46, 48, 40],\n",
       " [47, 41]]"
      ]
     },
     "execution_count": 17,
     "metadata": {},
     "output_type": "execute_result"
    }
   ],
   "source": [
    "auto_neighbors"
   ]
  },
  {
   "cell_type": "code",
   "execution_count": null,
   "id": "283d8c77",
   "metadata": {},
   "outputs": [],
   "source": [
    "import copy\n",
    "# TODO: Get all free crosses next to stones\n",
    "# TODO: Check for one free cross next to that stone\n",
    "# TODO: Make a special case for the first move of the game\n",
    "\n",
    "def get_guerila_moves(board):\n",
    "    move_list=[]\n",
    "    # TODO: Find out if it's necessary to make a copy of the board for each move\n",
    "    # First move, if the guerilla player is still holding all their stones\n",
    "    if board[0] == 66:\n",
    "        for i in range(48):\n",
    "            if i < 42:\n",
    "                new_board = copy.copy(board)\n",
    "                new_board[i] = 1\n",
    "                new_board[i + 7] = 1\n",
    "                move_list.append(new_board)\n",
    "            if (i+1)%7 != 0:\n",
    "                new_board = copy.copy(board)\n",
    "                new_board[i] = 1\n",
    "                new_board[i + 1] = 1\n",
    "                move_list.append(new_board)\n",
    "    else\n",
    "        # Find occupied crosses\n",
    "        for index, cross in board[33:]:\n",
    "            if cross == 1:\n",
    "                # TODO: Make sure the name and index of the neighbors list is correct!\n",
    "                for neighbor in neighbors[index-33]:\n",
    "                    if board[neighbor+33] == 0:\n",
    "                        for neighborbor in neighbors[neighbor+33]:\n",
    "                            if board[neighborbor+33] == 0:\n",
    "                                new_board = copy.copy(board)\n",
    "                                new_board[neighbor+33] = 1\n",
    "                                new_board[neighborbor+33] = 1\n",
    "                                move_list.append(new_board)\n",
    "                                # TODO: Find out if it's possibe to avoid all duplicate moves!\n",
    "    return move_list"
   ]
  },
  {
   "cell_type": "markdown",
   "id": "ae525d60",
   "metadata": {},
   "source": [
    "För att få alla möjliga drag gäller det att kolla var det finns brickor. \n",
    " + Sådana moves som leder ovanpå en annan bricka måste uteslutas\n",
    " + För de moves som går över motståndarens sten måste en till (obligatorisk) move hämtas\n",
    "     + OBS att detta gäller endast om det finns en till move som passerar över motståndarens sten"
   ]
  },
  {
   "cell_type": "code",
   "execution_count": 18,
   "id": "39f3d785",
   "metadata": {},
   "outputs": [],
   "source": [
    "# TODO: Get moves for all existing COIN pieces, removing collisions\n",
    "# TODO: Make a list of which cross to check on a particular COIN move\n",
    "\n",
    "def get_COIN_moves(board):\n",
    "    move_list=[]\n",
    "    # Find occupied squares\n",
    "    for index, square in board[1:33]:\n",
    "        if square == 1:\n",
    "            # Check for possible moves\n",
    "            #TODO: Iterate on diagonals\n",
    "            #TODO: Check if diagonal is occupied\n",
    "            #TODO: Check if a move is a capture\n",
    "            # TODO: MORE!\n",
    "    #TODO: Return a list of possible moves\n",
    "    # A move is represented by the board state produed by that move"
   ]
  },
  {
   "cell_type": "code",
   "execution_count": 42,
   "id": "da2b0544",
   "metadata": {},
   "outputs": [],
   "source": [
    "# Method for compressing the game board. I imagine it will mostly be used for human players\n",
    "# but it can also be used to make the board at the start of the game\n",
    "    \n",
    "import numpy as np\n",
    "\n",
    "def compress_board(stones, squares, grid):\n",
    "    \n",
    "    # Number of stones first\n",
    "    board = [stones]\n",
    "    \n",
    "    # squares (unused squares never need to be represented)\n",
    "    squares_list = squares.flatten().tolist()\n",
    "    board = board + squares_list\n",
    "    \n",
    "    # Grid last\n",
    "    grid_list = grid.flatten().tolist()\n",
    "    board = board + grid_list\n",
    "    \n",
    "    return board\n",
    "\n",
    "def decompress_board(board):\n",
    "    stones = board[0]\n",
    "    squares_list = board[1:33]\n",
    "    squares = np.array(squares_list).reshape((8, 4))\n",
    "    grid_list = board[33:]\n",
    "    grid = np.array(grid_list).reshape((7, 7))\n",
    "    return stones, squares, grid\n",
    "\n",
    "def create_starting_board():\n",
    "    squares = np.zeros((8,4), dtype='b')\n",
    "    squares[3:5,1:3] = 1\n",
    "    squares[2,1] = 1\n",
    "    squares[5,2] = 1\n",
    "    grid = np.zeros((7,7), dtype='b')\n",
    "    starting_board = compress_board(66,squares,grid)\n",
    "    return starting_board"
   ]
  },
  {
   "cell_type": "code",
   "execution_count": 43,
   "id": "b0d19925",
   "metadata": {},
   "outputs": [],
   "source": [
    "test_board = create_starting_board()"
   ]
  },
  {
   "cell_type": "code",
   "execution_count": 44,
   "id": "89a37856",
   "metadata": {},
   "outputs": [
    {
     "data": {
      "text/plain": [
       "[66,\n",
       " 0,\n",
       " 0,\n",
       " 0,\n",
       " 0,\n",
       " 0,\n",
       " 0,\n",
       " 0,\n",
       " 0,\n",
       " 0,\n",
       " 1,\n",
       " 1,\n",
       " 0,\n",
       " 0,\n",
       " 1,\n",
       " 1,\n",
       " 0,\n",
       " 0,\n",
       " 1,\n",
       " 1,\n",
       " 0,\n",
       " 0,\n",
       " 1,\n",
       " 1,\n",
       " 0,\n",
       " 0,\n",
       " 0,\n",
       " 0,\n",
       " 0,\n",
       " 0,\n",
       " 0,\n",
       " 0,\n",
       " 0,\n",
       " 0,\n",
       " 0,\n",
       " 0,\n",
       " 0,\n",
       " 0,\n",
       " 0,\n",
       " 0,\n",
       " 0,\n",
       " 0,\n",
       " 0,\n",
       " 0,\n",
       " 0,\n",
       " 0,\n",
       " 0,\n",
       " 0,\n",
       " 0,\n",
       " 0,\n",
       " 0,\n",
       " 0,\n",
       " 0,\n",
       " 0,\n",
       " 0,\n",
       " 0,\n",
       " 0,\n",
       " 0,\n",
       " 0,\n",
       " 0,\n",
       " 0,\n",
       " 0,\n",
       " 0,\n",
       " 0,\n",
       " 0,\n",
       " 0,\n",
       " 0,\n",
       " 0,\n",
       " 0,\n",
       " 0,\n",
       " 0,\n",
       " 0,\n",
       " 0,\n",
       " 0,\n",
       " 0,\n",
       " 0,\n",
       " 0,\n",
       " 0,\n",
       " 0,\n",
       " 0,\n",
       " 0,\n",
       " 0]"
      ]
     },
     "execution_count": 44,
     "metadata": {},
     "output_type": "execute_result"
    }
   ],
   "source": [
    "test_board"
   ]
  },
  {
   "cell_type": "code",
   "execution_count": 45,
   "id": "44bea581",
   "metadata": {},
   "outputs": [
    {
     "data": {
      "text/plain": [
       "(66,\n",
       " array([[0, 0, 0, 0],\n",
       "        [0, 0, 0, 0],\n",
       "        [0, 1, 1, 0],\n",
       "        [0, 1, 1, 0],\n",
       "        [0, 1, 1, 0],\n",
       "        [0, 1, 1, 0],\n",
       "        [0, 0, 0, 0],\n",
       "        [0, 0, 0, 0]]),\n",
       " array([[0, 0, 0, 0, 0, 0, 0],\n",
       "        [0, 0, 0, 0, 0, 0, 0],\n",
       "        [0, 0, 0, 0, 0, 0, 0],\n",
       "        [0, 0, 0, 0, 0, 0, 0],\n",
       "        [0, 0, 0, 0, 0, 0, 0],\n",
       "        [0, 0, 0, 0, 0, 0, 0],\n",
       "        [0, 0, 0, 0, 0, 0, 0]]))"
      ]
     },
     "execution_count": 45,
     "metadata": {},
     "output_type": "execute_result"
    }
   ],
   "source": [
    "decompress_board(test_board)"
   ]
  },
  {
   "cell_type": "code",
   "execution_count": 46,
   "id": "468eece2",
   "metadata": {},
   "outputs": [],
   "source": [
    "test_array = np.arange(32).reshape((8, 4))"
   ]
  },
  {
   "cell_type": "code",
   "execution_count": 47,
   "id": "a5a1a1cf",
   "metadata": {},
   "outputs": [
    {
     "data": {
      "text/plain": [
       "array([[ 0,  1,  2,  3],\n",
       "       [ 4,  5,  6,  7],\n",
       "       [ 8,  9, 10, 11],\n",
       "       [12, 13, 14, 15],\n",
       "       [16, 17, 18, 19],\n",
       "       [20, 21, 22, 23],\n",
       "       [24, 25, 26, 27],\n",
       "       [28, 29, 30, 31]])"
      ]
     },
     "execution_count": 47,
     "metadata": {},
     "output_type": "execute_result"
    }
   ],
   "source": [
    "test_array"
   ]
  },
  {
   "cell_type": "code",
   "execution_count": 48,
   "id": "473f7f49",
   "metadata": {},
   "outputs": [],
   "source": [
    "test_array[3:5,1:3] = 1"
   ]
  },
  {
   "cell_type": "code",
   "execution_count": 50,
   "id": "08d96f11",
   "metadata": {},
   "outputs": [],
   "source": [
    "test_array[2,1] = 1"
   ]
  },
  {
   "cell_type": "code",
   "execution_count": 54,
   "id": "51e4cca3",
   "metadata": {},
   "outputs": [],
   "source": [
    "test_array[5,2] = 1"
   ]
  },
  {
   "cell_type": "code",
   "execution_count": 55,
   "id": "c8ee736a",
   "metadata": {},
   "outputs": [
    {
     "data": {
      "text/plain": [
       "array([[ 0,  1,  2,  3],\n",
       "       [ 4,  5,  6,  7],\n",
       "       [ 8,  1, 10, 11],\n",
       "       [12,  1,  1, 15],\n",
       "       [16,  1,  1, 19],\n",
       "       [20, 21,  1,  1],\n",
       "       [24, 25, 26, 27],\n",
       "       [28, 29, 30, 31]])"
      ]
     },
     "execution_count": 55,
     "metadata": {},
     "output_type": "execute_result"
    }
   ],
   "source": [
    "test_array"
   ]
  },
  {
   "cell_type": "code",
   "execution_count": 4,
   "id": "70b64f32",
   "metadata": {},
   "outputs": [],
   "source": [
    "testlist = list(range(10))"
   ]
  },
  {
   "cell_type": "code",
   "execution_count": 5,
   "id": "41206cc1",
   "metadata": {},
   "outputs": [
    {
     "data": {
      "text/plain": [
       "[0, 1, 2, 3, 4, 5, 6, 7, 8, 9]"
      ]
     },
     "execution_count": 5,
     "metadata": {},
     "output_type": "execute_result"
    }
   ],
   "source": [
    "testlist"
   ]
  },
  {
   "cell_type": "code",
   "execution_count": 7,
   "id": "6314517f",
   "metadata": {},
   "outputs": [
    {
     "ename": "IndexError",
     "evalue": "list index out of range",
     "output_type": "error",
     "traceback": [
      "\u001b[0;31m---------------------------------------------------------------------------\u001b[0m",
      "\u001b[0;31mIndexError\u001b[0m                                Traceback (most recent call last)",
      "\u001b[0;32m/tmp/ipykernel_15509/42844128.py\u001b[0m in \u001b[0;36m<module>\u001b[0;34m\u001b[0m\n\u001b[0;32m----> 1\u001b[0;31m \u001b[0mtestlist\u001b[0m\u001b[0;34m[\u001b[0m\u001b[0;36m11\u001b[0m\u001b[0;34m]\u001b[0m\u001b[0;34m\u001b[0m\u001b[0;34m\u001b[0m\u001b[0m\n\u001b[0m",
      "\u001b[0;31mIndexError\u001b[0m: list index out of range"
     ]
    }
   ],
   "source": [
    "testlist[11]"
   ]
  },
  {
   "cell_type": "code",
   "execution_count": null,
   "id": "49341150",
   "metadata": {},
   "outputs": [],
   "source": []
  }
 ],
 "metadata": {
  "kernelspec": {
   "display_name": "Python 3 (ipykernel)",
   "language": "python",
   "name": "python3"
  },
  "language_info": {
   "codemirror_mode": {
    "name": "ipython",
    "version": 3
   },
   "file_extension": ".py",
   "mimetype": "text/x-python",
   "name": "python",
   "nbconvert_exporter": "python",
   "pygments_lexer": "ipython3",
   "version": "3.10.6"
  }
 },
 "nbformat": 4,
 "nbformat_minor": 5
}
